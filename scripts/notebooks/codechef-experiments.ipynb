{
 "cells": [
  {
   "cell_type": "markdown",
   "id": "0998fc89-b4ac-4100-b963-6f80d226ce1b",
   "metadata": {},
   "source": [
    "# Comparative study of EloMMR vs. The CodeChef Rating Sytem"
   ]
  },
  {
   "cell_type": "markdown",
   "id": "ba515b61-ed9a-4e01-bf3c-c5daa674c9b9",
   "metadata": {},
   "source": [
    "In this notebook, we look at the EloMMR vs. CodeChef Rating System across the history of CodeChef contests. As detailed in our [paper](https://github.com/EbTech/Elo-MMR/tree/master/paper), EloMMR is a robust, statiscally principled rating system for massive multiplayer contests. We developed this system primarily with coding competitions in mind, and have done extensive comparisons with the TopCoder and CodeChef rating systems. The main benefits of EloMMR are:\n",
    "- Speed and accuracy. EloMMR is at least an order of magnitude (typically more) faster than existing rating systems, and more accurate as well.\n",
    "- Incentive-compatibility. EloMMR does not incentivize players to perform less than their best (unlike TopCoder and CodeChef, which can be attacked through so-called \"volatility farming\" attacks).\n",
    "- Transparency. The entire codebase is open-source, and can be found [here](https://github.com/EbTech/Elo-MMR).\n",
    "\n",
    "At the present moment, EloMMR has been implemented in production at [dmoj.ca](dmoj.ca), a contest system used primarily by Canadian competitive programmers. Our goal with this notebook will be to verify the above benefits on the CodeChef contest data, and to inform a transition from the CodeChef rating system to EloMMR. "
   ]
  },
  {
   "cell_type": "code",
   "execution_count": 436,
   "id": "ba9c365e-8724-4a22-b7c1-f5fcc9ddad06",
   "metadata": {},
   "outputs": [],
   "source": [
    "import warnings\n",
    "warnings.simplefilter(action='ignore', category=FutureWarning)\n",
    "\n",
    "import os\n",
    "import pandas as pd\n",
    "from tqdm.notebook import tqdm"
   ]
  },
  {
   "cell_type": "markdown",
   "id": "d204cbd1-fdcb-49f2-b7a7-43c3fb1a3a31",
   "metadata": {},
   "source": [
    "First, we do some data cleaning / preprocessing. The code below will read the following:\n",
    "- All CodeChef contests since it's inception\n",
    "- Monthly checkpoints of CodeChef ratings\n",
    "- Monthly checkpoints of EloMMR ratings\n",
    "- Various metadata (contest times, CodeChef numerical handles, etc.)\n",
    "\n",
    "The monthly checkpoints were computed from our rust codebase using the `codechef_checkpoints.rs` file. The entire CodeChef history of 667 contests (at the time of writing) took approximately 27 seconds to complete using our `mmr-fast` algorithm."
   ]
  },
  {
   "cell_type": "code",
   "execution_count": 437,
   "id": "3fb6a0be-393c-4a13-a8a6-f1c240182814",
   "metadata": {},
   "outputs": [
    {
     "data": {
      "application/vnd.jupyter.widget-view+json": {
       "model_id": "2412e64504dd4e55901182bdb7b4f0be",
       "version_major": 2,
       "version_minor": 0
      },
      "text/plain": [
       "  0%|          | 0/689 [00:00<?, ?it/s]"
      ]
     },
     "metadata": {},
     "output_type": "display_data"
    }
   ],
   "source": [
    "from collections import defaultdict, Counter\n",
    "import json\n",
    "\n",
    "# Read in mappings of ids to username\n",
    "root_dir = '/home/work_space/elommr-data'\n",
    "user_csv = pd.read_csv(f'{root_dir}/user_ids_usernames_mapping.csv')\n",
    "\n",
    "# For some reason user 33713 is not known\n",
    "user_map = defaultdict(lambda: 'unknown_user')\n",
    "userid_map = defaultdict(lambda: -1)\n",
    "for userid, username in zip(user_csv.userid, user_csv.username):\n",
    "    user_map[userid] = username\n",
    "    userid_map[username] = userid\n",
    "    \n",
    "# Read in Codechef ranklist + our ranking system\n",
    "codechef_dir = f'{root_dir}/ratings'\n",
    "elommr_dir = f'{root_dir}/elommr-checkpoints/codechef'\n",
    "\n",
    "# Set of contest names that are checkpointed\n",
    "checkpoint_contests = set([contest[:-4] for contest in os.listdir(codechef_dir) if contest[-4:] == '.csv'])\n",
    "\n",
    "# Get contest ids corresponding to these contest names\n",
    "raw_contests = f'{root_dir}/var/www/elo_mmr/current/cache/codechef'\n",
    "name_to_id, id_to_name, name_to_time = {}, {}, {}\n",
    "all_contests = [contest for contest in os.listdir(raw_contests) if contest[-5:] == '.json']\n",
    "all_contests = sorted(all_contests, key=lambda x: int(x[:-5]))\n",
    "\n",
    "# Go through history of contests and get number of contests participated in by each user\n",
    "# Also compute some mappings of contest names to contest ids\n",
    "num_contests = Counter()\n",
    "for contest in tqdm(all_contests):\n",
    "    ranks = json.load(open(f'{raw_contests}/{contest}'))\n",
    "    cid = int(contest[:-5])\n",
    "    contest_name = ranks['name']\n",
    "    \n",
    "    name_to_id[ranks['name']] = cid\n",
    "    id_to_name[cid] = contest_name\n",
    "    name_to_time[contest_name] = ranks['time_seconds']\n",
    "    \n",
    "    num_contests.update([user_map[int(r[0])] for r in ranks['standings']])\n",
    "    if contest_name in checkpoint_contests:\n",
    "        # Save number of contests participated in by each user\n",
    "        df = pd.DataFrame(data={'username': list(num_contests.keys()), 'num_contests': list(num_contests.values())})\n",
    "        df.to_csv(f'{root_dir}/elommr-checkpoints/codechef/{contest_name}_numcontests.csv')"
   ]
  },
  {
   "cell_type": "markdown",
   "id": "abd174c3-5de8-4811-aabe-f60ab5e88fd0",
   "metadata": {},
   "source": [
    "## Measuring accuracy: rank deviation"
   ]
  },
  {
   "cell_type": "markdown",
   "id": "4dcdb01f-fd42-4576-b135-52c3bc476de2",
   "metadata": {},
   "source": [
    "In the code below, we measure a simple statistic for accuracy: the rank deviation. The rank deviation is the expected percentage your predicted rank (from the rating system) differs from your actual rank in the contest. Mathematically, the rank deviation of a player $i$ in a contest with $n$ participants is: \n",
    "\n",
    "$$\\text{rank_deviation}_i = |\\text{actual_rank}_i - \\text{predicted_rank}_i| / n.$$\n",
    "\n",
    "When player $i$ is tied with other players, we measure the difference of the actual rank to the nearest endpoint of the interval of players $i$ is tied with (or $0$ if the predicted rank lies within the interval)."
   ]
  },
  {
   "cell_type": "code",
   "execution_count": 525,
   "id": "678d6f6b-0f18-4b4e-a40c-c3ce4ca6a779",
   "metadata": {},
   "outputs": [
    {
     "data": {
      "application/vnd.jupyter.widget-view+json": {
       "model_id": "993ffa1a0e924fcaa68792b9a1d27a3c",
       "version_major": 2,
       "version_minor": 0
      },
      "text/plain": [
       "  0%|          | 0/158 [00:00<?, ?it/s]"
      ]
     },
     "metadata": {},
     "output_type": "display_data"
    },
    {
     "name": "stdout",
     "output_type": "stream",
     "text": [
      "Ranking deviation percentage (mmr vs. cc): 0.18465993909696637 0.1937954106820019\n"
     ]
    }
   ],
   "source": [
    "import math\n",
    "# For each contest, measure statistics between ranklists\n",
    "def rank_dev(r, lo, hi):\n",
    "    return min(abs(r - lo), abs(r - hi), 0 if lo <= r <= hi else math.inf)\n",
    "\n",
    "def produce_rankings(pred):\n",
    "    # Sort rankings by reverse rating\n",
    "    return dict([(pred[0], i) for i, pred in enumerate(sorted(pred, key=lambda x: -x[1]))])\n",
    "\n",
    "# Min number of contests a user needs to do before being counted in our metrics\n",
    "min_experience_level = 3\n",
    "default_rating = 1500\n",
    "\n",
    "unknown_users = set()\n",
    "rankdev_mmr, rankdev_cc = 0, 0\n",
    "pairinv_mmr, pairinv_cc = 0, 0\n",
    "num_obs = 0\n",
    "\n",
    "checkpoint_contests = sorted(list(checkpoint_contests), key=lambda x: name_to_id[x])\n",
    "for contest in tqdm(checkpoint_contests):\n",
    "    # Get the contest data corresponding to contest following this checkpoint\n",
    "    contest_id = name_to_id[contest] + 1\n",
    "    ranks = json.load(open(f'{raw_contests}/{contest_id}.json'))\n",
    "    \n",
    "    if ranks['time_seconds'] >= name_to_time['START25B']:\n",
    "        default_rating = 1000\n",
    "        \n",
    "    codechef_rank = pd.read_csv(f'{codechef_dir}/{contest}.csv')\n",
    "    codechef_rank.sort_values(['ratings'], ascending=False, inplace=True)\n",
    "    rate_name_cc = defaultdict(lambda: default_rating)\n",
    "    rate_name_cc.update(dict(zip(codechef_rank.username, codechef_rank.ratings)))\n",
    "    \n",
    "    mmr_rank = pd.read_csv(f'{elommr_dir}/{contest}.csv')\n",
    "    # Translate handle ids to actual usernames\n",
    "    mmr_rank.handle = mmr_rank.handle.apply(lambda x: user_map[x])\n",
    "    rate_name_mmr = defaultdict(lambda: default_rating)\n",
    "    rate_name_mmr.update(dict(zip(mmr_rank.handle, mmr_rank.display_rating)))\n",
    "    \n",
    "    # For each user in the contest, get their predicted rank from both ranklists\n",
    "    mmr_pred, codechef_pred = [], []\n",
    "    for result in ranks['standings']:\n",
    "        user = user_map[int(result[0])]\n",
    "        if user != 'unknown_user':\n",
    "            mmr_pred.append((user, rate_name_mmr[user]))\n",
    "            codechef_pred.append((user, rate_name_cc[user]))\n",
    "        else:\n",
    "            unknown_users.add(int(result[0]))\n",
    "    \n",
    "    # Sort the predictions to get the actual rankings\n",
    "    mmr_final, codechef_final = produce_rankings(mmr_pred), produce_rankings(codechef_pred)\n",
    "    \n",
    "    # Get the number of contests each user has participated in thus far\n",
    "    num_contest_csv = pd.read_csv(f'{elommr_dir}/{contest}_numcontests.csv')\n",
    "    num_contests = dict(zip(num_contest_csv.username, num_contest_csv.num_contests))\n",
    "    \n",
    "    # Compute various statistics over users that have participated in at least 3 contests\n",
    "    num_participants = len(ranks['standings'])\n",
    "    for result in ranks['standings']:\n",
    "        user = user_map[int(result[0])]\n",
    "        if user not in num_contests or num_contests[user] < min_experience_level:\n",
    "            # Note: num_contests includes the current contest, so an entry of 3 indicates 2 contests have been done\n",
    "            # before the current one\n",
    "            continue\n",
    "        \n",
    "        r_mmr = mmr_final[user]\n",
    "        r_cc = codechef_final[user]\n",
    "        \n",
    "        rankdev_mmr += rank_dev(r_mmr, *result[1:]) / (num_participants - 1)\n",
    "        rankdev_cc += rank_dev(r_cc, *result[1:]) / (num_participants - 1)\n",
    "        \n",
    "        num_obs += 1\n",
    "    \n",
    "print('Ranking deviation percentage (mmr vs. cc):', rankdev_mmr / num_obs, rankdev_cc / num_obs)"
   ]
  },
  {
   "cell_type": "markdown",
   "id": "9d12fe59-7735-4025-9ad5-e979180b586a",
   "metadata": {},
   "source": [
    "As expected, the EloMMR algorithm is slightly more accurate with a lower ranking deviation metric."
   ]
  },
  {
   "cell_type": "markdown",
   "id": "4da2a790-5f87-43cb-882e-f488a1887129",
   "metadata": {},
   "source": [
    "# Distribution and support of ratings"
   ]
  },
  {
   "cell_type": "markdown",
   "id": "1d0d6398-51af-465e-b72b-e0e8ce9ebaef",
   "metadata": {},
   "source": [
    "Next, we'll plot the distribution of the ratings. The code below does this. In addition, it plots the ratings of the top-3 participants according to the rating system."
   ]
  },
  {
   "cell_type": "code",
   "execution_count": 439,
   "id": "d49276a5-31ec-42ac-9878-d23019770135",
   "metadata": {},
   "outputs": [
    {
     "data": {
      "image/png": "[encoded data removed]",
      "text/plain": [
       "<Figure size 720x432 with 1 Axes>"
      ]
     },
     "metadata": {
      "needs_background": "light"
     },
     "output_type": "display_data"
    },
    {
     "data": {
      "image/png": "[encoded data removed]",
      "text/plain": [
       "<Figure size 720x432 with 1 Axes>"
      ]
     },
     "metadata": {
      "needs_background": "light"
     },
     "output_type": "display_data"
    }
   ],
   "source": [
    "import seaborn as sns\n",
    "from matplotlib import rcParams, cm\n",
    "import matplotlib.pyplot as plt\n",
    "\n",
    "# Add same columns to mmr ratings\n",
    "mmr_rank['username'] = mmr_rank.handle\n",
    "mmr_rank['ratings'] = mmr_rank.display_rating\n",
    "\n",
    "rcParams['figure.figsize'] = (10, 6)\n",
    "\n",
    "xlo, xhi = 0, 4500\n",
    "ylo, yhi = 0, 0.004\n",
    "def plot_top_k(rankings, k=3):\n",
    "    cmap = cm.get_cmap('summer')\n",
    "    for i in range(k):\n",
    "        col = cmap((i+1/2)/k)\n",
    "        plt.axvline(rankings.ratings.iloc[i], label=rankings.username.iloc[i], color=col)\n",
    "    plt.legend()\n",
    "        \n",
    "def plot_distribution(rankings, title):\n",
    "    plt.figure()\n",
    "    data = pd.DataFrame(data={'data': rankings.ratings})\n",
    "    ax = sns.distplot(data, bins=250)\n",
    "    plot_top_k(rankings)\n",
    "    ax.set_xlim([xlo, xhi]);\n",
    "    ax.set_ylim([ylo, yhi]);\n",
    "    ax.set_title(title);\n",
    "\n",
    "plot_distribution(codechef_rank, 'Codechef Ratings')\n",
    "plot_distribution(mmr_rank, 'EloMMR Ratings')"
   ]
  },
  {
   "cell_type": "markdown",
   "id": "1e5d7e51-aa04-4118-9036-f2c60f0d9479",
   "metadata": {},
   "source": [
    "We see that EloMMR exhibits a much smaller range of support, whereas ratings for CodeChef are significantly inflated (up to over 4400). In particular, the rating gap between `gennady.korotkevich` and second place `maroonrk` reaches almost 1300 for CodeChef, but is only 80 points in EloMMR. CodeChef also tends to overuse the middle range of the distribution (around 1500), whereas EloMMR ratings are spread much more smoothly."
   ]
  },
  {
   "cell_type": "markdown",
   "id": "471cd20c-0edc-48e4-b325-1b65526a2376",
   "metadata": {},
   "source": [
    "# Top-50 Ranking Differences"
   ]
  },
  {
   "cell_type": "markdown",
   "id": "81be551f-24c1-4abd-9c36-3b616f3c686f",
   "metadata": {},
   "source": [
    "Let's first take a look at the raw ranklists of the top 50. On the left we have CodeChef, and on the right we have EloMMR. We see many common names (in green) between the two lists. In fact, almost 70% of the top-50 list overlaps. "
   ]
  },
  {
   "cell_type": "code",
   "execution_count": 444,
   "id": "29042084-070b-4c82-ad0a-3516443e4585",
   "metadata": {
    "tags": []
   },
   "outputs": [
    {
     "name": "stdout",
     "output_type": "stream",
     "text": [
      "Overlapping top-50 players:\n",
      "{'lhic', 'peehs_moorhsum', 'progmatic', 'ACRush', 'msm1993', 'kutengine', 'lyrically', 'spycheese', 'rns5', 'alex_2oo8', 'he_____he', 'heno239', 'mugurelionut', 'oilhun', 'ccz181078', 'ceilks', 'kut_hbi1998', 'ksun48', 'rns4', 'neal', 'maksim1744', 'kal013', 'petr', 'endagorion', 'maroonrk', 'tmwilliamlin', 'white2302', 'sansen', 'tmyklebu', 'bigbag', 'geothermal', 'gennady.korotkevich', 'um_nik', 'noimi'}\n",
      "Size of overlap: 34 \n",
      "\n",
      "Unique EloMMR players: {'skyfire', 'tute7627', 'wrong_answer_1', 'scheffeli', 'wasa855', 'ssrs', 'kotatsugame', 'grumpy_gordon', 'hitonanode', 'rns_cus', 'vercingetorix', 'potato167', 'xaphoenix', 'uwi', 'jeroenodb', 'natsugiri'}\n",
      "Unique CodeChef players: {'waterfalls', 'hh_algos', 'stonefeang', 'kut_hgs1997', 'fjzzq2002', 'ecnerwala', 'ryodan', 'algmyr', 'Fdg', 'iafir', 'dj3500', 'gainullinildar', 'isaf27', 'gorre_morre', 'aawisong', 'b524'}\n"
     ]
    },
    {
     "data": {
      "text/html": [
       "<style type=\"text/css\">\n",
       "#T_ba7ca_row0_col0, #T_ba7ca_row0_col1, #T_ba7ca_row0_col2, #T_ba7ca_row0_col3, #T_ba7ca_row1_col0, #T_ba7ca_row1_col1, #T_ba7ca_row1_col2, #T_ba7ca_row1_col3, #T_ba7ca_row2_col0, #T_ba7ca_row2_col1, #T_ba7ca_row2_col2, #T_ba7ca_row2_col3, #T_ba7ca_row3_col0, #T_ba7ca_row3_col1, #T_ba7ca_row3_col2, #T_ba7ca_row3_col3, #T_ba7ca_row4_col0, #T_ba7ca_row4_col1, #T_ba7ca_row4_col2, #T_ba7ca_row4_col3, #T_ba7ca_row5_col0, #T_ba7ca_row5_col1, #T_ba7ca_row5_col2, #T_ba7ca_row5_col3, #T_ba7ca_row6_col0, #T_ba7ca_row6_col1, #T_ba7ca_row6_col2, #T_ba7ca_row6_col3, #T_ba7ca_row7_col0, #T_ba7ca_row7_col1, #T_ba7ca_row7_col2, #T_ba7ca_row7_col3, #T_ba7ca_row8_col0, #T_ba7ca_row8_col1, #T_ba7ca_row8_col2, #T_ba7ca_row8_col3, #T_ba7ca_row9_col0, #T_ba7ca_row9_col1, #T_ba7ca_row9_col2, #T_ba7ca_row9_col3, #T_ba7ca_row10_col0, #T_ba7ca_row10_col1, #T_ba7ca_row10_col2, #T_ba7ca_row10_col3, #T_ba7ca_row11_col2, #T_ba7ca_row11_col3, #T_ba7ca_row12_col0, #T_ba7ca_row12_col1, #T_ba7ca_row12_col2, #T_ba7ca_row12_col3, #T_ba7ca_row13_col0, #T_ba7ca_row13_col1, #T_ba7ca_row13_col2, #T_ba7ca_row13_col3, #T_ba7ca_row14_col0, #T_ba7ca_row14_col1, #T_ba7ca_row14_col2, #T_ba7ca_row14_col3, #T_ba7ca_row15_col0, #T_ba7ca_row15_col1, #T_ba7ca_row15_col2, #T_ba7ca_row15_col3, #T_ba7ca_row16_col0, #T_ba7ca_row16_col1, #T_ba7ca_row17_col0, #T_ba7ca_row17_col1, #T_ba7ca_row17_col2, #T_ba7ca_row17_col3, #T_ba7ca_row18_col0, #T_ba7ca_row18_col1, #T_ba7ca_row18_col2, #T_ba7ca_row18_col3, #T_ba7ca_row19_col0, #T_ba7ca_row19_col1, #T_ba7ca_row19_col2, #T_ba7ca_row19_col3, #T_ba7ca_row20_col0, #T_ba7ca_row20_col1, #T_ba7ca_row21_col2, #T_ba7ca_row21_col3, #T_ba7ca_row22_col0, #T_ba7ca_row22_col1, #T_ba7ca_row24_col0, #T_ba7ca_row24_col1, #T_ba7ca_row24_col2, #T_ba7ca_row24_col3, #T_ba7ca_row25_col2, #T_ba7ca_row25_col3, #T_ba7ca_row27_col0, #T_ba7ca_row27_col1, #T_ba7ca_row28_col0, #T_ba7ca_row28_col1, #T_ba7ca_row29_col2, #T_ba7ca_row29_col3, #T_ba7ca_row30_col0, #T_ba7ca_row30_col1, #T_ba7ca_row30_col2, #T_ba7ca_row30_col3, #T_ba7ca_row31_col2, #T_ba7ca_row31_col3, #T_ba7ca_row33_col0, #T_ba7ca_row33_col1, #T_ba7ca_row34_col0, #T_ba7ca_row34_col1, #T_ba7ca_row34_col2, #T_ba7ca_row34_col3, #T_ba7ca_row35_col2, #T_ba7ca_row35_col3, #T_ba7ca_row36_col0, #T_ba7ca_row36_col1, #T_ba7ca_row37_col0, #T_ba7ca_row37_col1, #T_ba7ca_row38_col2, #T_ba7ca_row38_col3, #T_ba7ca_row39_col0, #T_ba7ca_row39_col1, #T_ba7ca_row40_col0, #T_ba7ca_row40_col1, #T_ba7ca_row40_col2, #T_ba7ca_row40_col3, #T_ba7ca_row41_col0, #T_ba7ca_row41_col1, #T_ba7ca_row41_col2, #T_ba7ca_row41_col3, #T_ba7ca_row43_col0, #T_ba7ca_row43_col1, #T_ba7ca_row45_col0, #T_ba7ca_row45_col1, #T_ba7ca_row45_col2, #T_ba7ca_row45_col3, #T_ba7ca_row46_col2, #T_ba7ca_row46_col3, #T_ba7ca_row48_col2, #T_ba7ca_row48_col3, #T_ba7ca_row49_col2, #T_ba7ca_row49_col3 {\n",
       "  background-color: lightgreen;\n",
       "}\n",
       "#T_ba7ca_row11_col0, #T_ba7ca_row11_col1, #T_ba7ca_row16_col2, #T_ba7ca_row16_col3, #T_ba7ca_row20_col2, #T_ba7ca_row20_col3, #T_ba7ca_row21_col0, #T_ba7ca_row21_col1, #T_ba7ca_row22_col2, #T_ba7ca_row22_col3, #T_ba7ca_row23_col0, #T_ba7ca_row23_col1, #T_ba7ca_row23_col2, #T_ba7ca_row23_col3, #T_ba7ca_row25_col0, #T_ba7ca_row25_col1, #T_ba7ca_row26_col0, #T_ba7ca_row26_col1, #T_ba7ca_row26_col2, #T_ba7ca_row26_col3, #T_ba7ca_row27_col2, #T_ba7ca_row27_col3, #T_ba7ca_row28_col2, #T_ba7ca_row28_col3, #T_ba7ca_row29_col0, #T_ba7ca_row29_col1, #T_ba7ca_row31_col0, #T_ba7ca_row31_col1, #T_ba7ca_row32_col0, #T_ba7ca_row32_col1, #T_ba7ca_row32_col2, #T_ba7ca_row32_col3, #T_ba7ca_row33_col2, #T_ba7ca_row33_col3, #T_ba7ca_row35_col0, #T_ba7ca_row35_col1, #T_ba7ca_row36_col2, #T_ba7ca_row36_col3, #T_ba7ca_row37_col2, #T_ba7ca_row37_col3, #T_ba7ca_row38_col0, #T_ba7ca_row38_col1, #T_ba7ca_row39_col2, #T_ba7ca_row39_col3, #T_ba7ca_row42_col0, #T_ba7ca_row42_col1, #T_ba7ca_row42_col2, #T_ba7ca_row42_col3, #T_ba7ca_row43_col2, #T_ba7ca_row43_col3, #T_ba7ca_row44_col0, #T_ba7ca_row44_col1, #T_ba7ca_row44_col2, #T_ba7ca_row44_col3, #T_ba7ca_row46_col0, #T_ba7ca_row46_col1, #T_ba7ca_row47_col0, #T_ba7ca_row47_col1, #T_ba7ca_row47_col2, #T_ba7ca_row47_col3, #T_ba7ca_row48_col0, #T_ba7ca_row48_col1, #T_ba7ca_row49_col0, #T_ba7ca_row49_col1 {\n",
       "  background-color: lightyellow;\n",
       "}\n",
       "</style>\n",
       "<table id=\"T_ba7ca_\">\n",
       "  <thead>\n",
       "    <tr>\n",
       "      <th class=\"blank level0\" >&nbsp;</th>\n",
       "      <th class=\"col_heading level0 col0\" >username (cc)</th>\n",
       "      <th class=\"col_heading level0 col1\" >ratings (cc)</th>\n",
       "      <th class=\"col_heading level0 col2\" >username (mmr)</th>\n",
       "      <th class=\"col_heading level0 col3\" >ratings (mmr)</th>\n",
       "    </tr>\n",
       "  </thead>\n",
       "  <tbody>\n",
       "    <tr>\n",
       "      <th id=\"T_ba7ca_level0_row0\" class=\"row_heading level0 row0\" >0</th>\n",
       "      <td id=\"T_ba7ca_row0_col0\" class=\"data row0 col0\" >gennady.korotkevich</td>\n",
       "      <td id=\"T_ba7ca_row0_col1\" class=\"data row0 col1\" >4410</td>\n",
       "      <td id=\"T_ba7ca_row0_col2\" class=\"data row0 col2\" >gennady.korotkevich</td>\n",
       "      <td id=\"T_ba7ca_row0_col3\" class=\"data row0 col3\" >3305</td>\n",
       "    </tr>\n",
       "    <tr>\n",
       "      <th id=\"T_ba7ca_level0_row1\" class=\"row_heading level0 row1\" >1</th>\n",
       "      <td id=\"T_ba7ca_row1_col0\" class=\"data row1 col0\" >maroonrk</td>\n",
       "      <td id=\"T_ba7ca_row1_col1\" class=\"data row1 col1\" >3148</td>\n",
       "      <td id=\"T_ba7ca_row1_col2\" class=\"data row1 col2\" >maroonrk</td>\n",
       "      <td id=\"T_ba7ca_row1_col3\" class=\"data row1 col3\" >3225</td>\n",
       "    </tr>\n",
       "    <tr>\n",
       "      <th id=\"T_ba7ca_level0_row2\" class=\"row_heading level0 row2\" >2</th>\n",
       "      <td id=\"T_ba7ca_row2_col0\" class=\"data row2 col0\" >ACRush</td>\n",
       "      <td id=\"T_ba7ca_row2_col1\" class=\"data row2 col1\" >3084</td>\n",
       "      <td id=\"T_ba7ca_row2_col2\" class=\"data row2 col2\" >ksun48</td>\n",
       "      <td id=\"T_ba7ca_row2_col3\" class=\"data row2 col3\" >3163</td>\n",
       "    </tr>\n",
       "    <tr>\n",
       "      <th id=\"T_ba7ca_level0_row3\" class=\"row_heading level0 row3\" >3</th>\n",
       "      <td id=\"T_ba7ca_row3_col0\" class=\"data row3 col0\" >rns4</td>\n",
       "      <td id=\"T_ba7ca_row3_col1\" class=\"data row3 col1\" >3061</td>\n",
       "      <td id=\"T_ba7ca_row3_col2\" class=\"data row3 col2\" >spycheese</td>\n",
       "      <td id=\"T_ba7ca_row3_col3\" class=\"data row3 col3\" >3068</td>\n",
       "    </tr>\n",
       "    <tr>\n",
       "      <th id=\"T_ba7ca_level0_row4\" class=\"row_heading level0 row4\" >4</th>\n",
       "      <td id=\"T_ba7ca_row4_col0\" class=\"data row4 col0\" >lyrically</td>\n",
       "      <td id=\"T_ba7ca_row4_col1\" class=\"data row4 col1\" >3046</td>\n",
       "      <td id=\"T_ba7ca_row4_col2\" class=\"data row4 col2\" >lyrically</td>\n",
       "      <td id=\"T_ba7ca_row4_col3\" class=\"data row4 col3\" >3055</td>\n",
       "    </tr>\n",
       "    <tr>\n",
       "      <th id=\"T_ba7ca_level0_row5\" class=\"row_heading level0 row5\" >5</th>\n",
       "      <td id=\"T_ba7ca_row5_col0\" class=\"data row5 col0\" >kutengine</td>\n",
       "      <td id=\"T_ba7ca_row5_col1\" class=\"data row5 col1\" >3046</td>\n",
       "      <td id=\"T_ba7ca_row5_col2\" class=\"data row5 col2\" >petr</td>\n",
       "      <td id=\"T_ba7ca_row5_col3\" class=\"data row5 col3\" >3013</td>\n",
       "    </tr>\n",
       "    <tr>\n",
       "      <th id=\"T_ba7ca_level0_row6\" class=\"row_heading level0 row6\" >6</th>\n",
       "      <td id=\"T_ba7ca_row6_col0\" class=\"data row6 col0\" >ksun48</td>\n",
       "      <td id=\"T_ba7ca_row6_col1\" class=\"data row6 col1\" >3033</td>\n",
       "      <td id=\"T_ba7ca_row6_col2\" class=\"data row6 col2\" >mugurelionut</td>\n",
       "      <td id=\"T_ba7ca_row6_col3\" class=\"data row6 col3\" >3002</td>\n",
       "    </tr>\n",
       "    <tr>\n",
       "      <th id=\"T_ba7ca_level0_row7\" class=\"row_heading level0 row7\" >7</th>\n",
       "      <td id=\"T_ba7ca_row7_col0\" class=\"data row7 col0\" >petr</td>\n",
       "      <td id=\"T_ba7ca_row7_col1\" class=\"data row7 col1\" >3020</td>\n",
       "      <td id=\"T_ba7ca_row7_col2\" class=\"data row7 col2\" >peehs_moorhsum</td>\n",
       "      <td id=\"T_ba7ca_row7_col3\" class=\"data row7 col3\" >3001</td>\n",
       "    </tr>\n",
       "    <tr>\n",
       "      <th id=\"T_ba7ca_level0_row8\" class=\"row_heading level0 row8\" >8</th>\n",
       "      <td id=\"T_ba7ca_row8_col0\" class=\"data row8 col0\" >peehs_moorhsum</td>\n",
       "      <td id=\"T_ba7ca_row8_col1\" class=\"data row8 col1\" >2971</td>\n",
       "      <td id=\"T_ba7ca_row8_col2\" class=\"data row8 col2\" >noimi</td>\n",
       "      <td id=\"T_ba7ca_row8_col3\" class=\"data row8 col3\" >2993</td>\n",
       "    </tr>\n",
       "    <tr>\n",
       "      <th id=\"T_ba7ca_level0_row9\" class=\"row_heading level0 row9\" >9</th>\n",
       "      <td id=\"T_ba7ca_row9_col0\" class=\"data row9 col0\" >progmatic</td>\n",
       "      <td id=\"T_ba7ca_row9_col1\" class=\"data row9 col1\" >2935</td>\n",
       "      <td id=\"T_ba7ca_row9_col2\" class=\"data row9 col2\" >heno239</td>\n",
       "      <td id=\"T_ba7ca_row9_col3\" class=\"data row9 col3\" >2990</td>\n",
       "    </tr>\n",
       "    <tr>\n",
       "      <th id=\"T_ba7ca_level0_row10\" class=\"row_heading level0 row10\" >10</th>\n",
       "      <td id=\"T_ba7ca_row10_col0\" class=\"data row10 col0\" >um_nik</td>\n",
       "      <td id=\"T_ba7ca_row10_col1\" class=\"data row10 col1\" >2929</td>\n",
       "      <td id=\"T_ba7ca_row10_col2\" class=\"data row10 col2\" >ceilks</td>\n",
       "      <td id=\"T_ba7ca_row10_col3\" class=\"data row10 col3\" >2952</td>\n",
       "    </tr>\n",
       "    <tr>\n",
       "      <th id=\"T_ba7ca_level0_row11\" class=\"row_heading level0 row11\" >11</th>\n",
       "      <td id=\"T_ba7ca_row11_col0\" class=\"data row11 col0\" >b524</td>\n",
       "      <td id=\"T_ba7ca_row11_col1\" class=\"data row11 col1\" >2910</td>\n",
       "      <td id=\"T_ba7ca_row11_col2\" class=\"data row11 col2\" >neal</td>\n",
       "      <td id=\"T_ba7ca_row11_col3\" class=\"data row11 col3\" >2950</td>\n",
       "    </tr>\n",
       "    <tr>\n",
       "      <th id=\"T_ba7ca_level0_row12\" class=\"row_heading level0 row12\" >12</th>\n",
       "      <td id=\"T_ba7ca_row12_col0\" class=\"data row12 col0\" >neal</td>\n",
       "      <td id=\"T_ba7ca_row12_col1\" class=\"data row12 col1\" >2898</td>\n",
       "      <td id=\"T_ba7ca_row12_col2\" class=\"data row12 col2\" >geothermal</td>\n",
       "      <td id=\"T_ba7ca_row12_col3\" class=\"data row12 col3\" >2945</td>\n",
       "    </tr>\n",
       "    <tr>\n",
       "      <th id=\"T_ba7ca_level0_row13\" class=\"row_heading level0 row13\" >13</th>\n",
       "      <td id=\"T_ba7ca_row13_col0\" class=\"data row13 col0\" >spycheese</td>\n",
       "      <td id=\"T_ba7ca_row13_col1\" class=\"data row13 col1\" >2895</td>\n",
       "      <td id=\"T_ba7ca_row13_col2\" class=\"data row13 col2\" >rns5</td>\n",
       "      <td id=\"T_ba7ca_row13_col3\" class=\"data row13 col3\" >2944</td>\n",
       "    </tr>\n",
       "    <tr>\n",
       "      <th id=\"T_ba7ca_level0_row14\" class=\"row_heading level0 row14\" >14</th>\n",
       "      <td id=\"T_ba7ca_row14_col0\" class=\"data row14 col0\" >kut_hbi1998</td>\n",
       "      <td id=\"T_ba7ca_row14_col1\" class=\"data row14 col1\" >2894</td>\n",
       "      <td id=\"T_ba7ca_row14_col2\" class=\"data row14 col2\" >kutengine</td>\n",
       "      <td id=\"T_ba7ca_row14_col3\" class=\"data row14 col3\" >2932</td>\n",
       "    </tr>\n",
       "    <tr>\n",
       "      <th id=\"T_ba7ca_level0_row15\" class=\"row_heading level0 row15\" >15</th>\n",
       "      <td id=\"T_ba7ca_row15_col0\" class=\"data row15 col0\" >mugurelionut</td>\n",
       "      <td id=\"T_ba7ca_row15_col1\" class=\"data row15 col1\" >2892</td>\n",
       "      <td id=\"T_ba7ca_row15_col2\" class=\"data row15 col2\" >rns4</td>\n",
       "      <td id=\"T_ba7ca_row15_col3\" class=\"data row15 col3\" >2932</td>\n",
       "    </tr>\n",
       "    <tr>\n",
       "      <th id=\"T_ba7ca_level0_row16\" class=\"row_heading level0 row16\" >16</th>\n",
       "      <td id=\"T_ba7ca_row16_col0\" class=\"data row16 col0\" >rns5</td>\n",
       "      <td id=\"T_ba7ca_row16_col1\" class=\"data row16 col1\" >2879</td>\n",
       "      <td id=\"T_ba7ca_row16_col2\" class=\"data row16 col2\" >vercingetorix</td>\n",
       "      <td id=\"T_ba7ca_row16_col3\" class=\"data row16 col3\" >2932</td>\n",
       "    </tr>\n",
       "    <tr>\n",
       "      <th id=\"T_ba7ca_level0_row17\" class=\"row_heading level0 row17\" >17</th>\n",
       "      <td id=\"T_ba7ca_row17_col0\" class=\"data row17 col0\" >white2302</td>\n",
       "      <td id=\"T_ba7ca_row17_col1\" class=\"data row17 col1\" >2879</td>\n",
       "      <td id=\"T_ba7ca_row17_col2\" class=\"data row17 col2\" >ACRush</td>\n",
       "      <td id=\"T_ba7ca_row17_col3\" class=\"data row17 col3\" >2925</td>\n",
       "    </tr>\n",
       "    <tr>\n",
       "      <th id=\"T_ba7ca_level0_row18\" class=\"row_heading level0 row18\" >18</th>\n",
       "      <td id=\"T_ba7ca_row18_col0\" class=\"data row18 col0\" >noimi</td>\n",
       "      <td id=\"T_ba7ca_row18_col1\" class=\"data row18 col1\" >2859</td>\n",
       "      <td id=\"T_ba7ca_row18_col2\" class=\"data row18 col2\" >oilhun</td>\n",
       "      <td id=\"T_ba7ca_row18_col3\" class=\"data row18 col3\" >2922</td>\n",
       "    </tr>\n",
       "    <tr>\n",
       "      <th id=\"T_ba7ca_level0_row19\" class=\"row_heading level0 row19\" >19</th>\n",
       "      <td id=\"T_ba7ca_row19_col0\" class=\"data row19 col0\" >tmyklebu</td>\n",
       "      <td id=\"T_ba7ca_row19_col1\" class=\"data row19 col1\" >2855</td>\n",
       "      <td id=\"T_ba7ca_row19_col2\" class=\"data row19 col2\" >maksim1744</td>\n",
       "      <td id=\"T_ba7ca_row19_col3\" class=\"data row19 col3\" >2919</td>\n",
       "    </tr>\n",
       "    <tr>\n",
       "      <th id=\"T_ba7ca_level0_row20\" class=\"row_heading level0 row20\" >20</th>\n",
       "      <td id=\"T_ba7ca_row20_col0\" class=\"data row20 col0\" >ceilks</td>\n",
       "      <td id=\"T_ba7ca_row20_col1\" class=\"data row20 col1\" >2855</td>\n",
       "      <td id=\"T_ba7ca_row20_col2\" class=\"data row20 col2\" >xaphoenix</td>\n",
       "      <td id=\"T_ba7ca_row20_col3\" class=\"data row20 col3\" >2918</td>\n",
       "    </tr>\n",
       "    <tr>\n",
       "      <th id=\"T_ba7ca_level0_row21\" class=\"row_heading level0 row21\" >21</th>\n",
       "      <td id=\"T_ba7ca_row21_col0\" class=\"data row21 col0\" >ryodan</td>\n",
       "      <td id=\"T_ba7ca_row21_col1\" class=\"data row21 col1\" >2833</td>\n",
       "      <td id=\"T_ba7ca_row21_col2\" class=\"data row21 col2\" >kut_hbi1998</td>\n",
       "      <td id=\"T_ba7ca_row21_col3\" class=\"data row21 col3\" >2887</td>\n",
       "    </tr>\n",
       "    <tr>\n",
       "      <th id=\"T_ba7ca_level0_row22\" class=\"row_heading level0 row22\" >22</th>\n",
       "      <td id=\"T_ba7ca_row22_col0\" class=\"data row22 col0\" >heno239</td>\n",
       "      <td id=\"T_ba7ca_row22_col1\" class=\"data row22 col1\" >2822</td>\n",
       "      <td id=\"T_ba7ca_row22_col2\" class=\"data row22 col2\" >scheffeli</td>\n",
       "      <td id=\"T_ba7ca_row22_col3\" class=\"data row22 col3\" >2887</td>\n",
       "    </tr>\n",
       "    <tr>\n",
       "      <th id=\"T_ba7ca_level0_row23\" class=\"row_heading level0 row23\" >23</th>\n",
       "      <td id=\"T_ba7ca_row23_col0\" class=\"data row23 col0\" >ecnerwala</td>\n",
       "      <td id=\"T_ba7ca_row23_col1\" class=\"data row23 col1\" >2817</td>\n",
       "      <td id=\"T_ba7ca_row23_col2\" class=\"data row23 col2\" >rns_cus</td>\n",
       "      <td id=\"T_ba7ca_row23_col3\" class=\"data row23 col3\" >2884</td>\n",
       "    </tr>\n",
       "    <tr>\n",
       "      <th id=\"T_ba7ca_level0_row24\" class=\"row_heading level0 row24\" >24</th>\n",
       "      <td id=\"T_ba7ca_row24_col0\" class=\"data row24 col0\" >msm1993</td>\n",
       "      <td id=\"T_ba7ca_row24_col1\" class=\"data row24 col1\" >2803</td>\n",
       "      <td id=\"T_ba7ca_row24_col2\" class=\"data row24 col2\" >white2302</td>\n",
       "      <td id=\"T_ba7ca_row24_col3\" class=\"data row24 col3\" >2883</td>\n",
       "    </tr>\n",
       "    <tr>\n",
       "      <th id=\"T_ba7ca_level0_row25\" class=\"row_heading level0 row25\" >25</th>\n",
       "      <td id=\"T_ba7ca_row25_col0\" class=\"data row25 col0\" >hh_algos</td>\n",
       "      <td id=\"T_ba7ca_row25_col1\" class=\"data row25 col1\" >2800</td>\n",
       "      <td id=\"T_ba7ca_row25_col2\" class=\"data row25 col2\" >lhic</td>\n",
       "      <td id=\"T_ba7ca_row25_col3\" class=\"data row25 col3\" >2882</td>\n",
       "    </tr>\n",
       "    <tr>\n",
       "      <th id=\"T_ba7ca_level0_row26\" class=\"row_heading level0 row26\" >26</th>\n",
       "      <td id=\"T_ba7ca_row26_col0\" class=\"data row26 col0\" >kut_hgs1997</td>\n",
       "      <td id=\"T_ba7ca_row26_col1\" class=\"data row26 col1\" >2798</td>\n",
       "      <td id=\"T_ba7ca_row26_col2\" class=\"data row26 col2\" >natsugiri</td>\n",
       "      <td id=\"T_ba7ca_row26_col3\" class=\"data row26 col3\" >2861</td>\n",
       "    </tr>\n",
       "    <tr>\n",
       "      <th id=\"T_ba7ca_level0_row27\" class=\"row_heading level0 row27\" >27</th>\n",
       "      <td id=\"T_ba7ca_row27_col0\" class=\"data row27 col0\" >tmwilliamlin</td>\n",
       "      <td id=\"T_ba7ca_row27_col1\" class=\"data row27 col1\" >2787</td>\n",
       "      <td id=\"T_ba7ca_row27_col2\" class=\"data row27 col2\" >uwi</td>\n",
       "      <td id=\"T_ba7ca_row27_col3\" class=\"data row27 col3\" >2859</td>\n",
       "    </tr>\n",
       "    <tr>\n",
       "      <th id=\"T_ba7ca_level0_row28\" class=\"row_heading level0 row28\" >28</th>\n",
       "      <td id=\"T_ba7ca_row28_col0\" class=\"data row28 col0\" >sansen</td>\n",
       "      <td id=\"T_ba7ca_row28_col1\" class=\"data row28 col1\" >2787</td>\n",
       "      <td id=\"T_ba7ca_row28_col2\" class=\"data row28 col2\" >ssrs</td>\n",
       "      <td id=\"T_ba7ca_row28_col3\" class=\"data row28 col3\" >2856</td>\n",
       "    </tr>\n",
       "    <tr>\n",
       "      <th id=\"T_ba7ca_level0_row29\" class=\"row_heading level0 row29\" >29</th>\n",
       "      <td id=\"T_ba7ca_row29_col0\" class=\"data row29 col0\" >dj3500</td>\n",
       "      <td id=\"T_ba7ca_row29_col1\" class=\"data row29 col1\" >2780</td>\n",
       "      <td id=\"T_ba7ca_row29_col2\" class=\"data row29 col2\" >sansen</td>\n",
       "      <td id=\"T_ba7ca_row29_col3\" class=\"data row29 col3\" >2854</td>\n",
       "    </tr>\n",
       "    <tr>\n",
       "      <th id=\"T_ba7ca_level0_row30\" class=\"row_heading level0 row30\" >30</th>\n",
       "      <td id=\"T_ba7ca_row30_col0\" class=\"data row30 col0\" >lhic</td>\n",
       "      <td id=\"T_ba7ca_row30_col1\" class=\"data row30 col1\" >2772</td>\n",
       "      <td id=\"T_ba7ca_row30_col2\" class=\"data row30 col2\" >ccz181078</td>\n",
       "      <td id=\"T_ba7ca_row30_col3\" class=\"data row30 col3\" >2850</td>\n",
       "    </tr>\n",
       "    <tr>\n",
       "      <th id=\"T_ba7ca_level0_row31\" class=\"row_heading level0 row31\" >31</th>\n",
       "      <td id=\"T_ba7ca_row31_col0\" class=\"data row31 col0\" >gorre_morre</td>\n",
       "      <td id=\"T_ba7ca_row31_col1\" class=\"data row31 col1\" >2767</td>\n",
       "      <td id=\"T_ba7ca_row31_col2\" class=\"data row31 col2\" >progmatic</td>\n",
       "      <td id=\"T_ba7ca_row31_col3\" class=\"data row31 col3\" >2848</td>\n",
       "    </tr>\n",
       "    <tr>\n",
       "      <th id=\"T_ba7ca_level0_row32\" class=\"row_heading level0 row32\" >32</th>\n",
       "      <td id=\"T_ba7ca_row32_col0\" class=\"data row32 col0\" >gainullinildar</td>\n",
       "      <td id=\"T_ba7ca_row32_col1\" class=\"data row32 col1\" >2767</td>\n",
       "      <td id=\"T_ba7ca_row32_col2\" class=\"data row32 col2\" >tute7627</td>\n",
       "      <td id=\"T_ba7ca_row32_col3\" class=\"data row32 col3\" >2842</td>\n",
       "    </tr>\n",
       "    <tr>\n",
       "      <th id=\"T_ba7ca_level0_row33\" class=\"row_heading level0 row33\" >33</th>\n",
       "      <td id=\"T_ba7ca_row33_col0\" class=\"data row33 col0\" >maksim1744</td>\n",
       "      <td id=\"T_ba7ca_row33_col1\" class=\"data row33 col1\" >2764</td>\n",
       "      <td id=\"T_ba7ca_row33_col2\" class=\"data row33 col2\" >wasa855</td>\n",
       "      <td id=\"T_ba7ca_row33_col3\" class=\"data row33 col3\" >2840</td>\n",
       "    </tr>\n",
       "    <tr>\n",
       "      <th id=\"T_ba7ca_level0_row34\" class=\"row_heading level0 row34\" >34</th>\n",
       "      <td id=\"T_ba7ca_row34_col0\" class=\"data row34 col0\" >oilhun</td>\n",
       "      <td id=\"T_ba7ca_row34_col1\" class=\"data row34 col1\" >2753</td>\n",
       "      <td id=\"T_ba7ca_row34_col2\" class=\"data row34 col2\" >msm1993</td>\n",
       "      <td id=\"T_ba7ca_row34_col3\" class=\"data row34 col3\" >2839</td>\n",
       "    </tr>\n",
       "    <tr>\n",
       "      <th id=\"T_ba7ca_level0_row35\" class=\"row_heading level0 row35\" >35</th>\n",
       "      <td id=\"T_ba7ca_row35_col0\" class=\"data row35 col0\" >waterfalls</td>\n",
       "      <td id=\"T_ba7ca_row35_col1\" class=\"data row35 col1\" >2753</td>\n",
       "      <td id=\"T_ba7ca_row35_col2\" class=\"data row35 col2\" >tmwilliamlin</td>\n",
       "      <td id=\"T_ba7ca_row35_col3\" class=\"data row35 col3\" >2838</td>\n",
       "    </tr>\n",
       "    <tr>\n",
       "      <th id=\"T_ba7ca_level0_row36\" class=\"row_heading level0 row36\" >36</th>\n",
       "      <td id=\"T_ba7ca_row36_col0\" class=\"data row36 col0\" >bigbag</td>\n",
       "      <td id=\"T_ba7ca_row36_col1\" class=\"data row36 col1\" >2750</td>\n",
       "      <td id=\"T_ba7ca_row36_col2\" class=\"data row36 col2\" >kotatsugame</td>\n",
       "      <td id=\"T_ba7ca_row36_col3\" class=\"data row36 col3\" >2838</td>\n",
       "    </tr>\n",
       "    <tr>\n",
       "      <th id=\"T_ba7ca_level0_row37\" class=\"row_heading level0 row37\" >37</th>\n",
       "      <td id=\"T_ba7ca_row37_col0\" class=\"data row37 col0\" >he_____he</td>\n",
       "      <td id=\"T_ba7ca_row37_col1\" class=\"data row37 col1\" >2748</td>\n",
       "      <td id=\"T_ba7ca_row37_col2\" class=\"data row37 col2\" >jeroenodb</td>\n",
       "      <td id=\"T_ba7ca_row37_col3\" class=\"data row37 col3\" >2836</td>\n",
       "    </tr>\n",
       "    <tr>\n",
       "      <th id=\"T_ba7ca_level0_row38\" class=\"row_heading level0 row38\" >38</th>\n",
       "      <td id=\"T_ba7ca_row38_col0\" class=\"data row38 col0\" >fjzzq2002</td>\n",
       "      <td id=\"T_ba7ca_row38_col1\" class=\"data row38 col1\" >2748</td>\n",
       "      <td id=\"T_ba7ca_row38_col2\" class=\"data row38 col2\" >bigbag</td>\n",
       "      <td id=\"T_ba7ca_row38_col3\" class=\"data row38 col3\" >2836</td>\n",
       "    </tr>\n",
       "    <tr>\n",
       "      <th id=\"T_ba7ca_level0_row39\" class=\"row_heading level0 row39\" >39</th>\n",
       "      <td id=\"T_ba7ca_row39_col0\" class=\"data row39 col0\" >endagorion</td>\n",
       "      <td id=\"T_ba7ca_row39_col1\" class=\"data row39 col1\" >2746</td>\n",
       "      <td id=\"T_ba7ca_row39_col2\" class=\"data row39 col2\" >grumpy_gordon</td>\n",
       "      <td id=\"T_ba7ca_row39_col3\" class=\"data row39 col3\" >2835</td>\n",
       "    </tr>\n",
       "    <tr>\n",
       "      <th id=\"T_ba7ca_level0_row40\" class=\"row_heading level0 row40\" >40</th>\n",
       "      <td id=\"T_ba7ca_row40_col0\" class=\"data row40 col0\" >geothermal</td>\n",
       "      <td id=\"T_ba7ca_row40_col1\" class=\"data row40 col1\" >2741</td>\n",
       "      <td id=\"T_ba7ca_row40_col2\" class=\"data row40 col2\" >kal013</td>\n",
       "      <td id=\"T_ba7ca_row40_col3\" class=\"data row40 col3\" >2832</td>\n",
       "    </tr>\n",
       "    <tr>\n",
       "      <th id=\"T_ba7ca_level0_row41\" class=\"row_heading level0 row41\" >41</th>\n",
       "      <td id=\"T_ba7ca_row41_col0\" class=\"data row41 col0\" >kal013</td>\n",
       "      <td id=\"T_ba7ca_row41_col1\" class=\"data row41 col1\" >2726</td>\n",
       "      <td id=\"T_ba7ca_row41_col2\" class=\"data row41 col2\" >um_nik</td>\n",
       "      <td id=\"T_ba7ca_row41_col3\" class=\"data row41 col3\" >2830</td>\n",
       "    </tr>\n",
       "    <tr>\n",
       "      <th id=\"T_ba7ca_level0_row42\" class=\"row_heading level0 row42\" >42</th>\n",
       "      <td id=\"T_ba7ca_row42_col0\" class=\"data row42 col0\" >algmyr</td>\n",
       "      <td id=\"T_ba7ca_row42_col1\" class=\"data row42 col1\" >2725</td>\n",
       "      <td id=\"T_ba7ca_row42_col2\" class=\"data row42 col2\" >skyfire</td>\n",
       "      <td id=\"T_ba7ca_row42_col3\" class=\"data row42 col3\" >2830</td>\n",
       "    </tr>\n",
       "    <tr>\n",
       "      <th id=\"T_ba7ca_level0_row43\" class=\"row_heading level0 row43\" >43</th>\n",
       "      <td id=\"T_ba7ca_row43_col0\" class=\"data row43 col0\" >alex_2oo8</td>\n",
       "      <td id=\"T_ba7ca_row43_col1\" class=\"data row43 col1\" >2724</td>\n",
       "      <td id=\"T_ba7ca_row43_col2\" class=\"data row43 col2\" >hitonanode</td>\n",
       "      <td id=\"T_ba7ca_row43_col3\" class=\"data row43 col3\" >2828</td>\n",
       "    </tr>\n",
       "    <tr>\n",
       "      <th id=\"T_ba7ca_level0_row44\" class=\"row_heading level0 row44\" >44</th>\n",
       "      <td id=\"T_ba7ca_row44_col0\" class=\"data row44 col0\" >iafir</td>\n",
       "      <td id=\"T_ba7ca_row44_col1\" class=\"data row44 col1\" >2722</td>\n",
       "      <td id=\"T_ba7ca_row44_col2\" class=\"data row44 col2\" >potato167</td>\n",
       "      <td id=\"T_ba7ca_row44_col3\" class=\"data row44 col3\" >2824</td>\n",
       "    </tr>\n",
       "    <tr>\n",
       "      <th id=\"T_ba7ca_level0_row45\" class=\"row_heading level0 row45\" >45</th>\n",
       "      <td id=\"T_ba7ca_row45_col0\" class=\"data row45 col0\" >ccz181078</td>\n",
       "      <td id=\"T_ba7ca_row45_col1\" class=\"data row45 col1\" >2722</td>\n",
       "      <td id=\"T_ba7ca_row45_col2\" class=\"data row45 col2\" >tmyklebu</td>\n",
       "      <td id=\"T_ba7ca_row45_col3\" class=\"data row45 col3\" >2824</td>\n",
       "    </tr>\n",
       "    <tr>\n",
       "      <th id=\"T_ba7ca_level0_row46\" class=\"row_heading level0 row46\" >46</th>\n",
       "      <td id=\"T_ba7ca_row46_col0\" class=\"data row46 col0\" >stonefeang</td>\n",
       "      <td id=\"T_ba7ca_row46_col1\" class=\"data row46 col1\" >2721</td>\n",
       "      <td id=\"T_ba7ca_row46_col2\" class=\"data row46 col2\" >endagorion</td>\n",
       "      <td id=\"T_ba7ca_row46_col3\" class=\"data row46 col3\" >2819</td>\n",
       "    </tr>\n",
       "    <tr>\n",
       "      <th id=\"T_ba7ca_level0_row47\" class=\"row_heading level0 row47\" >47</th>\n",
       "      <td id=\"T_ba7ca_row47_col0\" class=\"data row47 col0\" >Fdg</td>\n",
       "      <td id=\"T_ba7ca_row47_col1\" class=\"data row47 col1\" >2718</td>\n",
       "      <td id=\"T_ba7ca_row47_col2\" class=\"data row47 col2\" >wrong_answer_1</td>\n",
       "      <td id=\"T_ba7ca_row47_col3\" class=\"data row47 col3\" >2819</td>\n",
       "    </tr>\n",
       "    <tr>\n",
       "      <th id=\"T_ba7ca_level0_row48\" class=\"row_heading level0 row48\" >48</th>\n",
       "      <td id=\"T_ba7ca_row48_col0\" class=\"data row48 col0\" >isaf27</td>\n",
       "      <td id=\"T_ba7ca_row48_col1\" class=\"data row48 col1\" >2718</td>\n",
       "      <td id=\"T_ba7ca_row48_col2\" class=\"data row48 col2\" >alex_2oo8</td>\n",
       "      <td id=\"T_ba7ca_row48_col3\" class=\"data row48 col3\" >2814</td>\n",
       "    </tr>\n",
       "    <tr>\n",
       "      <th id=\"T_ba7ca_level0_row49\" class=\"row_heading level0 row49\" >49</th>\n",
       "      <td id=\"T_ba7ca_row49_col0\" class=\"data row49 col0\" >aawisong</td>\n",
       "      <td id=\"T_ba7ca_row49_col1\" class=\"data row49 col1\" >2712</td>\n",
       "      <td id=\"T_ba7ca_row49_col2\" class=\"data row49 col2\" >he_____he</td>\n",
       "      <td id=\"T_ba7ca_row49_col3\" class=\"data row49 col3\" >2813</td>\n",
       "    </tr>\n",
       "  </tbody>\n",
       "</table>\n"
      ],
      "text/plain": [
       "<pandas.io.formats.style.Styler at 0x7f609a3c9610>"
      ]
     },
     "metadata": {},
     "output_type": "display_data"
    }
   ],
   "source": [
    "import numpy as np\n",
    "\n",
    "cc_top50 = codechef_rank.iloc[:50]\n",
    "mmr_top50 = mmr_rank[['username', 'ratings']].iloc[:50]\n",
    "\n",
    "overlap = set(cc_top50.username) & set(mmr_top50.username)\n",
    "\n",
    "print('Overlapping top-50 players:')\n",
    "print(overlap)\n",
    "print('Size of overlap:', len(overlap), '\\n')\n",
    "\n",
    "print('Unique EloMMR players:', set(mmr_top50.username) - overlap)\n",
    "print('Unique CodeChef players:', set(cc_top50.username) - overlap)\n",
    "\n",
    "# We need to rename some columns now so that when we merge them, column names are unique\n",
    "cc_top50.rename(columns={'username': 'username (cc)', 'ratings': 'ratings (cc)'}, inplace=True)\n",
    "mmr_top50.rename(columns={'username': 'username (mmr)', 'ratings': 'ratings (mmr)'}, inplace=True)\n",
    "\n",
    "def custom_style(df):\n",
    "    c = df[['username (cc)', 'username (mmr)']].isin(overlap)\n",
    "    c0, c1 = c.to_numpy()[:,0:1], c.to_numpy()[:,1:2]\n",
    "    mask = np.concatenate([np.repeat(c0, 2, axis=1), np.repeat(c1, 2, axis=1)], axis=1)\n",
    "    a = np.where(mask, 'background-color: lightgreen', 'background-color: lightyellow')\n",
    "    return pd.DataFrame(a, columns=df.columns, index=df.index)\n",
    "\n",
    "combined = pd.concat([d.reset_index(drop=True) for d in [cc_top50, mmr_top50]], axis=1)\n",
    "s = combined.reset_index(drop=True).style.apply(custom_style, axis=None)\n",
    "display(s)"
   ]
  },
  {
   "cell_type": "markdown",
   "id": "0099bdae-7290-454f-8a7f-e6ef6f8478b2",
   "metadata": {},
   "source": [
    "# Relationship between CodeChef and EloMMR ratings"
   ]
  },
  {
   "cell_type": "markdown",
   "id": "ce44ecc9-7c3c-478d-93e0-483ce2431d0b",
   "metadata": {},
   "source": [
    "Next, let's look at the relationship between CodeChef and EloMMR ratings for the players. We'll sample 20000 random players from the player base and plot their ratings in the two systems."
   ]
  },
  {
   "cell_type": "code",
   "execution_count": 532,
   "id": "6f030b3f-1d57-49a2-adb1-66380d47e245",
   "metadata": {},
   "outputs": [
    {
     "data": {
      "text/plain": [
       "[<matplotlib.lines.Line2D at 0x7f60a05ebed0>]"
      ]
     },
     "execution_count": 532,
     "metadata": {},
     "output_type": "execute_result"
    },
    {
     "data": {
      "text/plain": [
       "<Figure size 720x432 with 0 Axes>"
      ]
     },
     "metadata": {},
     "output_type": "display_data"
    },
    {
     "data": {
      "image/png": "[encoded data removed]",
      "text/plain": [
       "<Figure size 720x432 with 1 Axes>"
      ]
     },
     "metadata": {
      "needs_background": "light"
     },
     "output_type": "display_data"
    }
   ],
   "source": [
    "import matplotlib\n",
    "from scipy.odr import *\n",
    "\n",
    "num_samples = 20000\n",
    "samples = codechef_rank.sample(num_samples, axis=0)\n",
    "cc_random = codechef_rank[codechef_rank['username'].isin(samples.username)]\n",
    "mmr_random = mmr_rank[mmr_rank['handle'].isin(samples.username)][['display_rating', 'handle']]\n",
    "mmr_random.rename(inplace=True, columns={'cur_mu': 'ratings', 'handle': 'username'})\n",
    "\n",
    "union = set(cc_random.username) | set(mmr_random.username)\n",
    "\n",
    "# This cell requires running all previous cells in the notebook to gather precomputed values\n",
    "x_cc, y_mmr, names = [], [], []\n",
    "for username in union:\n",
    "    x_cc.append(rate_name_cc[username])\n",
    "    y_mmr.append(rate_name_mmr[username])\n",
    "    names.append(username)\n",
    "    \n",
    "plt.figure()\n",
    "fig, ax = plt.subplots() \n",
    "plt.scatter(x_cc, y_mmr)\n",
    "plt.title('CodeChef ratings vs. EloMMR Ratings')\n",
    "plt.xlabel('CodeChef rating')\n",
    "plt.ylabel('EloMMR rating')\n",
    "\n",
    "# These trendlines are made by eyeballing the data.\n",
    "X = sorted(x_cc)\n",
    "Yl = 0.55 * (np.array(X) - 3300) + 3300\n",
    "Yh = 1.45 * (np.array(X) - 3300) + 3300\n",
    "plt.fill_between(X, Yl, Yh, alpha=0.7)\n",
    "plt.plot(X, X)"
   ]
  },
  {
   "cell_type": "markdown",
   "id": "abbbc842-3cd4-4349-983c-bb67524c61e2",
   "metadata": {},
   "source": [
    "The trend is not perfectly linear, as we saw earlier that the distributions of EloMMR and CodeChef ratings are vastly different in shape. It seems that the difference between the two is larger towards the lower range of CodeChef ratings (below 2200)."
   ]
  },
  {
   "cell_type": "markdown",
   "id": "c4a55c45-cf97-4703-ba85-562a1b4d0375",
   "metadata": {},
   "source": [
    "# Transitioning CodeChef to EloMMR"
   ]
  },
  {
   "cell_type": "markdown",
   "id": "96325654-58f7-4f8f-992b-d06ad9de6d8e",
   "metadata": {},
   "source": [
    "The transition from CodeChef's current rating system to EloMMR is tricky, as the two rating systems produce different distributions and different scales. The different scales can easily be corrected, as one can scale EloMMR ratings to cover the same range of values as CodeChef. The shape of the two distributions present issues however. Due to the high density of ratings near 1500 for CodeChef's ratings, it's likely that EloMMR will greatly increase the average rating of participants just above 1500, and greatly decrease the average rating of participants just below 1500. This would lead to many participants being unhappy with the new rating system, as their ratings would rapidly decrease.\n",
    "\n",
    "Our proposed solution is to shift the ratings of EloMMR so that at least 80% of users expect a rating increase after the rating system change. Below we compute this shift."
   ]
  },
  {
   "cell_type": "code",
   "execution_count": 572,
   "id": "b1507c93-96e9-4144-b619-eb76f64216df",
   "metadata": {},
   "outputs": [
    {
     "name": "stdout",
     "output_type": "stream",
     "text": [
      "Rating shift (95%) is 302.01416015625\n"
     ]
    }
   ],
   "source": [
    "def percent_happy(s, explvl=0):\n",
    "    nsucc, ntot = 0, 0\n",
    "    for name in rate_name_mmr:\n",
    "        if explvl and (name not in num_contests or num_contests[name] < explvl):\n",
    "            continue\n",
    "        if rate_name_cc[name] <= rate_name_mmr[name] + s:\n",
    "            nsucc += 1\n",
    "        ntot += 1\n",
    "    return nsucc / ntot\n",
    "\n",
    "def compute_shift(prop, explvl=0):\n",
    "    l, r = -1200, 1200\n",
    "    while abs(r - l) > 1e-1:\n",
    "        m = (l + r) / 2\n",
    "        if percent_happy(m, explvl) >= prop:\n",
    "            r = m\n",
    "        else:\n",
    "            l = m\n",
    "    return (l + r) / 2\n",
    "\n",
    "print('Rating shift (95%) is', compute_shift(0.80))"
   ]
  },
  {
   "cell_type": "markdown",
   "id": "45d1fe69-b113-45f4-ac52-3e11d91c25a8",
   "metadata": {},
   "source": [
    "Let's see how the rating shift evolves as we vary the proportion required."
   ]
  },
  {
   "cell_type": "code",
   "execution_count": 573,
   "id": "985500d2-ff89-4d94-b31f-83e628aa9a8a",
   "metadata": {},
   "outputs": [
    {
     "data": {
      "text/plain": [
       "[<matplotlib.lines.Line2D at 0x7f60b9329cd0>]"
      ]
     },
     "execution_count": 573,
     "metadata": {},
     "output_type": "execute_result"
    },
    {
     "data": {
      "image/png": "[encoded data removed]",
      "text/plain": [
       "<Figure size 720x432 with 1 Axes>"
      ]
     },
     "metadata": {
      "needs_background": "light"
     },
     "output_type": "display_data"
    }
   ],
   "source": [
    "X = np.linspace(0.01, 0.99, 20)\n",
    "Y = [compute_shift(x) for x in X]\n",
    "plt.plot(Y, X) "
   ]
  },
  {
   "cell_type": "markdown",
   "id": "06ca674f-6aff-43c5-adcc-c7c082736041",
   "metadata": {},
   "source": [
    "Let's break things down by experience next. We'll examine what shift is needed for various levels of contest experience."
   ]
  },
  {
   "cell_type": "code",
   "execution_count": 575,
   "id": "851ab3ef-0dc4-465b-937a-27caa3f61d7b",
   "metadata": {},
   "outputs": [
    {
     "data": {
      "text/plain": [
       "[<matplotlib.lines.Line2D at 0x7f60ab0e2950>]"
      ]
     },
     "execution_count": 575,
     "metadata": {},
     "output_type": "execute_result"
    },
    {
     "data": {
      "image/png": "[encoded data removed]",
      "text/plain": [
       "<Figure size 720x432 with 1 Axes>"
      ]
     },
     "metadata": {
      "needs_background": "light"
     },
     "output_type": "display_data"
    }
   ],
   "source": [
    "Y = [compute_shift(0.80, exp) for exp in range(1, 11)]\n",
    "X = list(range(1, 11))\n",
    "plt.plot(X, Y)"
   ]
  },
  {
   "cell_type": "markdown",
   "id": "48544822-791a-42a0-a136-09f7a7bdeb39",
   "metadata": {},
   "source": [
    "As we can see, higher values of rating shift are mostly required for less experienced users. We can also see this in the \"CodeChef Ratings vs. EloMMR Ratings\" plot that we generated earlier, as the spread between the ratings was largest for lower rated players (lower rated players are correlated with fewer contests)."
   ]
  },
  {
   "cell_type": "markdown",
   "id": "f63198b1-fa65-4e08-98e8-a54d874358fe",
   "metadata": {},
   "source": [
    "# Initializing EloMMR with CodeChef ratings"
   ]
  },
  {
   "cell_type": "markdown",
   "id": "c5de9f16-2703-4dcb-a596-9d6043f75cb2",
   "metadata": {},
   "source": [
    "In this section, we initialize EloMMR with CodeChef ratings from a year ago and answer questions such as:\n",
    "- How fast will the rating distribution change?\n",
    "- What will the rating distribution converge to?\n",
    "- How will the top-ranked players change?"
   ]
  },
  {
   "cell_type": "code",
   "execution_count": 639,
   "id": "62356367-8dbf-4cea-a5dd-99ea1f6d1dc4",
   "metadata": {},
   "outputs": [
    {
     "name": "stdout",
     "output_type": "stream",
     "text": [
      "Cutoff contest: LTIME21\n"
     ]
    },
    {
     "data": {
      "text/html": [
       "<div>\n",
       "<style scoped>\n",
       "    .dataframe tbody tr th:only-of-type {\n",
       "        vertical-align: middle;\n",
       "    }\n",
       "\n",
       "    .dataframe tbody tr th {\n",
       "        vertical-align: top;\n",
       "    }\n",
       "\n",
       "    .dataframe thead th {\n",
       "        text-align: right;\n",
       "    }\n",
       "</style>\n",
       "<table border=\"1\" class=\"dataframe\">\n",
       "  <thead>\n",
       "    <tr style=\"text-align: right;\">\n",
       "      <th></th>\n",
       "      <th>handle</th>\n",
       "      <th>cur_mu</th>\n",
       "      <th>num_contests</th>\n",
       "      <th>cur_sigma</th>\n",
       "    </tr>\n",
       "  </thead>\n",
       "  <tbody>\n",
       "    <tr>\n",
       "      <th>0</th>\n",
       "      <td>16</td>\n",
       "      <td>1468</td>\n",
       "      <td>1</td>\n",
       "      <td>350.0</td>\n",
       "    </tr>\n",
       "    <tr>\n",
       "      <th>1</th>\n",
       "      <td>17</td>\n",
       "      <td>1538</td>\n",
       "      <td>9</td>\n",
       "      <td>350.0</td>\n",
       "    </tr>\n",
       "    <tr>\n",
       "      <th>2</th>\n",
       "      <td>21</td>\n",
       "      <td>1552</td>\n",
       "      <td>1</td>\n",
       "      <td>350.0</td>\n",
       "    </tr>\n",
       "    <tr>\n",
       "      <th>3</th>\n",
       "      <td>22</td>\n",
       "      <td>1403</td>\n",
       "      <td>4</td>\n",
       "      <td>350.0</td>\n",
       "    </tr>\n",
       "    <tr>\n",
       "      <th>4</th>\n",
       "      <td>42</td>\n",
       "      <td>1346</td>\n",
       "      <td>3</td>\n",
       "      <td>350.0</td>\n",
       "    </tr>\n",
       "    <tr>\n",
       "      <th>...</th>\n",
       "      <td>...</td>\n",
       "      <td>...</td>\n",
       "      <td>...</td>\n",
       "      <td>...</td>\n",
       "    </tr>\n",
       "    <tr>\n",
       "      <th>50491</th>\n",
       "      <td>661890</td>\n",
       "      <td>1396</td>\n",
       "      <td>1</td>\n",
       "      <td>350.0</td>\n",
       "    </tr>\n",
       "    <tr>\n",
       "      <th>50492</th>\n",
       "      <td>661898</td>\n",
       "      <td>1504</td>\n",
       "      <td>1</td>\n",
       "      <td>350.0</td>\n",
       "    </tr>\n",
       "    <tr>\n",
       "      <th>50493</th>\n",
       "      <td>661934</td>\n",
       "      <td>1504</td>\n",
       "      <td>1</td>\n",
       "      <td>350.0</td>\n",
       "    </tr>\n",
       "    <tr>\n",
       "      <th>50494</th>\n",
       "      <td>661946</td>\n",
       "      <td>1504</td>\n",
       "      <td>1</td>\n",
       "      <td>350.0</td>\n",
       "    </tr>\n",
       "    <tr>\n",
       "      <th>50495</th>\n",
       "      <td>662149</td>\n",
       "      <td>1504</td>\n",
       "      <td>1</td>\n",
       "      <td>350.0</td>\n",
       "    </tr>\n",
       "  </tbody>\n",
       "</table>\n",
       "<p>50496 rows × 4 columns</p>\n",
       "</div>"
      ],
      "text/plain": [
       "       handle  cur_mu  num_contests  cur_sigma\n",
       "0          16    1468             1      350.0\n",
       "1          17    1538             9      350.0\n",
       "2          21    1552             1      350.0\n",
       "3          22    1403             4      350.0\n",
       "4          42    1346             3      350.0\n",
       "...       ...     ...           ...        ...\n",
       "50491  661890    1396             1      350.0\n",
       "50492  661898    1504             1      350.0\n",
       "50493  661934    1504             1      350.0\n",
       "50494  661946    1504             1      350.0\n",
       "50495  662149    1504             1      350.0\n",
       "\n",
       "[50496 rows x 4 columns]"
      ]
     },
     "metadata": {},
     "output_type": "display_data"
    }
   ],
   "source": [
    "import time\n",
    "import datetime\n",
    "\n",
    "# Determine closest contest a year ago from today\n",
    "ts = time.mktime(datetime.datetime.strptime(\"25/04/2022\", \"%d/%m/%Y\").timetuple()) - 31557600\n",
    "\n",
    "# Figure out which CodeChef contest this is\n",
    "sid = 0\n",
    "for i, contest in enumerate(checkpoint_contests):\n",
    "    if name_to_time[contest] > ts:\n",
    "        sid = i-1\n",
    "        break\n",
    "        \n",
    "# Augment codechef rating with number of contests\n",
    "print('Cutoff contest:', id_to_name[sid])\n",
    "# This is our nearest stored checkpoint\n",
    "sid += 1\n",
    "\n",
    "contest = id_to_name[sid]\n",
    "codechef_rank = pd.read_csv(f'{codechef_dir}/{contest}.csv')\n",
    "num_contest_csv = pd.read_csv(f'{elommr_dir}/{contest}_numcontests.csv')\n",
    "\n",
    "merged = pd.merge(codechef_rank, num_contest_csv)\n",
    "merged = merged.drop(merged.columns[2], axis=1)\n",
    "merged['username'] = merged['username'].apply(lambda x: userid_map[x])\n",
    "merged['cur_sigma'] = 350.\n",
    "merged = merged.rename(columns={'username': 'handle', 'ratings': 'cur_mu'})\n",
    "display(merged)\n",
    "\n",
    "# Save this as the initial condition\n",
    "merged.to_csv(f'/home/work_space/elommr-data/cc_init_condition-{contest}-{sid}.csv', index=False)"
   ]
  },
  {
   "cell_type": "code",
   "execution_count": null,
   "id": "1197e86c-af0b-421e-8c02-3286d4b4cfc1",
   "metadata": {},
   "outputs": [],
   "source": []
  }
 ],
 "metadata": {
  "kernelspec": {
   "display_name": "Python 3",
   "language": "python",
   "name": "python3"
  },
  "language_info": {
   "codemirror_mode": {
    "name": "ipython",
    "version": 3
   },
   "file_extension": ".py",
   "mimetype": "text/x-python",
   "name": "python",
   "nbconvert_exporter": "python",
   "pygments_lexer": "ipython3",
   "version": "3.7.12"
  }
 },
 "nbformat": 4,
 "nbformat_minor": 5
}
