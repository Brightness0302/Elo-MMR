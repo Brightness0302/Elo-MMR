{
 "cells": [
  {
   "cell_type": "markdown",
   "id": "0998fc89-b4ac-4100-b963-6f80d226ce1b",
   "metadata": {},
   "source": [
    "# Comparative study of EloMMR vs. The CodeChef Rating Sytem"
   ]
  },
  {
   "cell_type": "markdown",
   "id": "ba515b61-ed9a-4e01-bf3c-c5daa674c9b9",
   "metadata": {},
   "source": [
    "In this notebook, we look at the EloMMR vs. CodeChef Rating System across the history of CodeChef contests. As detailed in our [paper](https://github.com/EbTech/Elo-MMR/tree/master/paper), EloMMR is a robust, statiscally principled rating system for massive multiplayer contests. We developed this system primarily with coding competitions in mind, and have done extensive comparisons with the TopCoder and CodeChef rating systems. The main benefits of EloMMR are:\n",
    "- Speed and accuracy. EloMMR is at least an order of magnitude (typically more) faster than existing rating systems, and more accurate as well.\n",
    "- Incentive-compatibility. EloMMR does not incentivize players to perform less than their best (unlike TopCoder and CodeChef, which can be attacked through so-called \"volatility farming\" attacks).\n",
    "- Transparency. The entire codebase is open-source, and can be found [here](https://github.com/EbTech/Elo-MMR).\n",
    "\n",
    "At the present moment, EloMMR has been implemented in production at [dmoj.ca](dmoj.ca), a contest system used primarily by Canadian competitive programmers. Our goal with this notebook will be to verify the above benefits on the CodeChef contest data, and to inform a transition from the CodeChef rating system to EloMMR. "
   ]
  },
  {
   "cell_type": "code",
   "execution_count": 10,
   "id": "ba9c365e-8724-4a22-b7c1-f5fcc9ddad06",
   "metadata": {},
   "outputs": [],
   "source": [
    "import os\n",
    "import pandas as pd\n",
    "from tqdm.notebook import tqdm"
   ]
  },
  {
   "cell_type": "markdown",
   "id": "d204cbd1-fdcb-49f2-b7a7-43c3fb1a3a31",
   "metadata": {},
   "source": [
    "First, we do some data cleaning / preprocessing. The code below will read the following:\n",
    "- All CodeChef contests since it's inception\n",
    "- Monthly checkpoints of CodeChef ratings\n",
    "- Monthly checkpoints of EloMMR ratings\n",
    "- Various metadata (contest times, CodeChef numerical handles, etc.)\n",
    "\n",
    "The monthly checkpoints were computed from our rust codebase using the `codechef_checkpoints.rs` file. The entire CodeChef history of 667 contests (at the time of writing) took approximately 27 seconds to complete using our `mmr-fast` algorithm."
   ]
  },
  {
   "cell_type": "code",
   "execution_count": 167,
   "id": "3fb6a0be-393c-4a13-a8a6-f1c240182814",
   "metadata": {},
   "outputs": [
    {
     "data": {
      "application/vnd.jupyter.widget-view+json": {
       "model_id": "4928f8100f824be5a005935e47c70134",
       "version_major": 2,
       "version_minor": 0
      },
      "text/plain": [
       "  0%|          | 0/689 [00:00<?, ?it/s]"
      ]
     },
     "metadata": {},
     "output_type": "display_data"
    }
   ],
   "source": [
    "from collections import defaultdict, Counter\n",
    "import json\n",
    "\n",
    "# Read in mappings of ids to username\n",
    "root_dir = '/home/work_space/elommr-data'\n",
    "user_csv = pd.read_csv(f'{root_dir}/user_ids_usernames_mapping.csv')\n",
    "\n",
    "# For some reason user 33713 is not known\n",
    "user_map = defaultdict(lambda: 'unknown_user')\n",
    "userid_map = defaultdict(lambda: -1)\n",
    "for userid, username in zip(user_csv.userid, user_csv.username):\n",
    "    user_map[userid] = username\n",
    "    userid_map[username] = userid\n",
    "    \n",
    "# Read in Codechef ranklist + our ranking system\n",
    "codechef_dir = f'{root_dir}/ratings'\n",
    "elommr_dir = f'{root_dir}/elommr-checkpoints/codechef'\n",
    "\n",
    "# Set of contest names that are checkpointed\n",
    "checkpoint_contests = set([contest[:-4] for contest in os.listdir(codechef_dir) if contest[-4:] == '.csv'])\n",
    "\n",
    "# Get contest ids corresponding to these contest names\n",
    "raw_contests = f'{root_dir}/var/www/elo_mmr/current/cache/codechef'\n",
    "name_to_id, id_to_name, name_to_time = {}, {}, {}\n",
    "all_contests = [contest for contest in os.listdir(raw_contests) if contest[-5:] == '.json']\n",
    "all_contests = sorted(all_contests, key=lambda x: int(x[:-5]))\n",
    "\n",
    "# Go through history of contests and get number of contests participated in by each user\n",
    "# Also compute some mappings of contest names to contest ids\n",
    "num_contests = Counter()\n",
    "for contest in tqdm(all_contests):\n",
    "    ranks = json.load(open(f'{raw_contests}/{contest}'))\n",
    "    cid = int(contest[:-5])\n",
    "    contest_name = ranks['name']\n",
    "    \n",
    "    name_to_id[ranks['name']] = cid\n",
    "    id_to_name[cid] = contest_name\n",
    "    name_to_time[contest_name] = ranks['time_seconds']\n",
    "    \n",
    "    num_contests.update([user_map[int(r[0])] for r in ranks['standings']])\n",
    "    if contest_name in checkpoint_contests:\n",
    "        # Save number of contests participated in by each user\n",
    "        df = pd.DataFrame(data={'username': list(num_contests.keys()), 'num_contests': list(num_contests.values())})\n",
    "        df.to_csv(f'{root_dir}/elommr-checkpoints/codechef/{contest_name}_numcontests.csv')"
   ]
  },
  {
   "cell_type": "markdown",
   "id": "abd174c3-5de8-4811-aabe-f60ab5e88fd0",
   "metadata": {},
   "source": [
    "## Measuring accuracy: rank deviation"
   ]
  },
  {
   "cell_type": "markdown",
   "id": "4dcdb01f-fd42-4576-b135-52c3bc476de2",
   "metadata": {},
   "source": [
    "In the code below, we measure a simple statistic for accuracy: the rank deviation. The rank deviation is the expected percentage your predicted rank (from the rating system) differs from your actual rank in the contest. Mathematically, the rank deviation of a player $i$ in a contest with $n$ participants is: \n",
    "\n",
    "$$\\text{rank_deviation}_i = |\\text{actual_rank}_i - \\text{predicted_rank}_i| / n.$$\n",
    "\n",
    "When player $i$ is tied with other players, we measure the difference of the actual rank to the nearest endpoint of the interval of players $i$ is tied with (or $0$ if the predicted rank lies within the interval)."
   ]
  },
  {
   "cell_type": "code",
   "execution_count": 244,
   "id": "678d6f6b-0f18-4b4e-a40c-c3ce4ca6a779",
   "metadata": {},
   "outputs": [
    {
     "data": {
      "application/vnd.jupyter.widget-view+json": {
       "model_id": "75b0d6fb323943c29b21624e2472a116",
       "version_major": 2,
       "version_minor": 0
      },
      "text/plain": [
       "  0%|          | 0/158 [00:00<?, ?it/s]"
      ]
     },
     "metadata": {},
     "output_type": "display_data"
    },
    {
     "name": "stdout",
     "output_type": "stream",
     "text": [
      "Ranking deviation percentage (mmr vs. cc): 0.1846255006533524 0.19375879824853307\n"
     ]
    }
   ],
   "source": [
    "import math\n",
    "# For each contest, measure statistics between ranklists\n",
    "def rank_dev(r, lo, hi):\n",
    "    return min(abs(r - lo), abs(r - hi), 0 if lo <= r <= hi else math.inf)\n",
    "\n",
    "def produce_rankings(pred):\n",
    "    # Sort rankings by reverse rating\n",
    "    return dict([(pred[0], i) for i, pred in enumerate(sorted(pred, key=lambda x: -x[1]))])\n",
    "\n",
    "# Min number of contests a user needs to do before being counted in our metrics\n",
    "min_experience_level = 3\n",
    "default_rating = 1500\n",
    "\n",
    "unknown_users = set()\n",
    "rankdev_mmr, rankdev_cc = 0, 0\n",
    "pairinv_mmr, pairinv_cc = 0, 0\n",
    "num_obs = 0\n",
    "\n",
    "checkpoint_contests = sorted(list(checkpoint_contests), key=lambda x: name_to_id[x])\n",
    "for contest in tqdm(checkpoint_contests):\n",
    "    # Get the contest data corresponding to contest following this checkpoint\n",
    "    contest_id = name_to_id[contest] + 1\n",
    "    ranks = json.load(open(f'{raw_contests}/{contest_id}.json'))\n",
    "    \n",
    "    if ranks['time_seconds'] >= name_to_time['START25B']:\n",
    "        default_rating = 1000\n",
    "        \n",
    "    codechef_rank = pd.read_csv(f'{codechef_dir}/{contest}.csv')\n",
    "    codechef_rank.sort_values(['ratings'], ascending=False, inplace=True)\n",
    "    rate_name_cc = defaultdict(lambda: default_rating)\n",
    "    rate_name_cc.update(dict(zip(codechef_rank.username, codechef_rank.ratings)))\n",
    "    \n",
    "    mmr_rank = pd.read_csv(f'{elommr_dir}/{contest}.csv')\n",
    "    # Translate handle ids to actual usernames\n",
    "    mmr_rank.handle = mmr_rank.handle.apply(lambda x: user_map[x])\n",
    "    rate_name_mmr = defaultdict(lambda: default_rating)\n",
    "    rate_name_mmr.update(dict(zip(mmr_rank.handle, mmr_rank.display_rating)))\n",
    "    \n",
    "    # For each user in the contest, get their predicted rank from both ranklists\n",
    "    mmr_pred, codechef_pred = [], []\n",
    "    for result in ranks['standings']:\n",
    "        user = user_map[int(result[0])]\n",
    "        if user != 'unknown_user':\n",
    "            mmr_pred.append((user, rate_name_mmr[user]))\n",
    "            codechef_pred.append((user, rate_name_cc[user]))\n",
    "        else:\n",
    "            unknown_users.add(int(result[0]))\n",
    "    \n",
    "    # Sort the predictions to get the actual rankings\n",
    "    mmr_final, codechef_final = produce_rankings(mmr_pred), produce_rankings(codechef_pred)\n",
    "    \n",
    "    # Get the number of contests each user has participated in thus far\n",
    "    num_contest_csv = pd.read_csv(f'{elommr_dir}/{contest}_numcontests.csv')\n",
    "    num_contests = dict(zip(num_contest_csv.username, num_contest_csv.num_contests))\n",
    "    \n",
    "    # Compute various statistics over users that have participated in at least 3 contests\n",
    "    num_participants = len(ranks['standings'])\n",
    "    for result in ranks['standings']:\n",
    "        user = user_map[int(result[0])]\n",
    "        if user not in num_contests or num_contests[user] < min_experience_level:\n",
    "            # Note: num_contests includes the current contest, so an entry of 3 indicates 2 contests have been done\n",
    "            # before the current one\n",
    "            continue\n",
    "        \n",
    "        r_mmr = mmr_final[user]\n",
    "        r_cc = codechef_final[user]\n",
    "        \n",
    "        rankdev_mmr += rank_dev(r_mmr, *result[1:]) / num_participants\n",
    "        rankdev_cc += rank_dev(r_cc, *result[1:]) / num_participants\n",
    "        \n",
    "        num_obs += 1\n",
    "    \n",
    "print('Ranking deviation percentage (mmr vs. cc):', rankdev_mmr / num_obs, rankdev_cc / num_obs)"
   ]
  },
  {
   "cell_type": "markdown",
   "id": "9d12fe59-7735-4025-9ad5-e979180b586a",
   "metadata": {},
   "source": [
    "As expected, the EloMMR algorithm is slightly more accurate with a lower ranking deviation metric."
   ]
  },
  {
   "cell_type": "markdown",
   "id": "4da2a790-5f87-43cb-882e-f488a1887129",
   "metadata": {},
   "source": [
    "# Distribution and support of ratings"
   ]
  },
  {
   "cell_type": "markdown",
   "id": "1d0d6398-51af-465e-b72b-e0e8ce9ebaef",
   "metadata": {},
   "source": [
    "Next, we'll plot the distribution of the ratings. The code below does this. In addition, it plots the ratings of the top-3 participants according to the rating system."
   ]
  },
  {
   "cell_type": "code",
   "execution_count": 257,
   "id": "d49276a5-31ec-42ac-9878-d23019770135",
   "metadata": {},
   "outputs": [
    {
     "name": "stderr",
     "output_type": "stream",
     "text": [
      "/opt/conda/lib/python3.7/site-packages/seaborn/distributions.py:2619: FutureWarning: `distplot` is a deprecated function and will be removed in a future version. Please adapt your code to use either `displot` (a figure-level function with similar flexibility) or `histplot` (an axes-level function for histograms).\n",
      "  warnings.warn(msg, FutureWarning)\n",
      "/opt/conda/lib/python3.7/site-packages/seaborn/distributions.py:2619: FutureWarning: `distplot` is a deprecated function and will be removed in a future version. Please adapt your code to use either `displot` (a figure-level function with similar flexibility) or `histplot` (an axes-level function for histograms).\n",
      "  warnings.warn(msg, FutureWarning)\n"
     ]
    },
    {
     "data": {
      "image/png": "[encoded data removed]",
      "text/plain": [
       "<Figure size 720x432 with 1 Axes>"
      ]
     },
     "metadata": {
      "needs_background": "light"
     },
     "output_type": "display_data"
    },
    {
     "data": {
      "image/png": "[encoded data removed]",
      "text/plain": [
       "<Figure size 720x432 with 1 Axes>"
      ]
     },
     "metadata": {
      "needs_background": "light"
     },
     "output_type": "display_data"
    }
   ],
   "source": [
    "import seaborn\n",
    "from matplotlib import rcParams\n",
    "import matplotlib.pyplot as plt\n",
    "\n",
    "# Add same columns to mmr ratings\n",
    "mmr_rank['username'] = mmr_rank.handle\n",
    "mmr_rank['ratings'] = mmr_rank.display_rating\n",
    "\n",
    "rcParams['figure.figsize'] = (10, 6)\n",
    "\n",
    "xlo, xhi = 0, 4500\n",
    "ylo, yhi = 0, 0.004\n",
    "def plot_top_k(rankings, k=3):\n",
    "    for i in range(k):\n",
    "        plt.axvline(rankings.ratings.iloc[i])\n",
    "        plt.text(rankings.ratings.iloc[i] - 300, (i+1/2) * yhi / k, rankings.username.iloc[i])\n",
    "        \n",
    "def plot_distribution(rankings, title):\n",
    "    plt.figure()\n",
    "    data = pd.DataFrame(data={'data': rankings.ratings})\n",
    "    ax = seaborn.distplot(data, bins=250)\n",
    "    plot_top_k(rankings)\n",
    "    ax.set_xlim([xlo, xhi]);\n",
    "    ax.set_ylim([ylo, yhi]);\n",
    "    ax.set_title(title);\n",
    "\n",
    "plot_distribution(codechef_rank, 'Codechef Ratings')\n",
    "plot_distribution(mmr_rank, 'EloMMR Ratings')"
   ]
  },
  {
   "cell_type": "markdown",
   "id": "1e5d7e51-aa04-4118-9036-f2c60f0d9479",
   "metadata": {},
   "source": [
    "We see that EloMMR exhibits a much tighter range of support, whereas ratings for CodeChef are significantly inflated. In particular, the rating gap between `gennady.korotkevich` and second place `maroonrk` reach almost 1300 for CodeChef, but is only 80 points in EloMMR. CodeChef also tends to overuse the middle range of the distribution (around 1500), whereas EloMMR ratings are spread much more smoothly."
   ]
  },
  {
   "cell_type": "markdown",
   "id": "471cd20c-0edc-48e4-b325-1b65526a2376",
   "metadata": {},
   "source": [
    "# Top-50 Ranking Differences"
   ]
  },
  {
   "cell_type": "markdown",
   "id": "81be551f-24c1-4abd-9c36-3b616f3c686f",
   "metadata": {},
   "source": [
    "Let's first take a look at the raw ranklists of the top 50. On the left we have CodeChef, and on the right we have EloMMR."
   ]
  },
  {
   "cell_type": "code",
   "execution_count": 283,
   "id": "1157f527-cf90-4533-b407-886ac0d83dcb",
   "metadata": {
    "tags": []
   },
   "outputs": [
    {
     "ename": "AttributeError",
     "evalue": "'DataFrame' object has no attribute 'map'",
     "output_type": "error",
     "traceback": [
      "\u001b[0;31m---------------------------------------------------------------------------\u001b[0m",
      "\u001b[0;31mAttributeError\u001b[0m                            Traceback (most recent call last)",
      "\u001b[0;32m/tmp/ipykernel_17803/327872095.py\u001b[0m in \u001b[0;36m<module>\u001b[0;34m\u001b[0m\n\u001b[1;32m      3\u001b[0m \u001b[0;34m\u001b[0m\u001b[0m\n\u001b[1;32m      4\u001b[0m \u001b[0mcombined\u001b[0m \u001b[0;34m=\u001b[0m \u001b[0mpd\u001b[0m\u001b[0;34m.\u001b[0m\u001b[0mconcat\u001b[0m\u001b[0;34m(\u001b[0m\u001b[0;34m[\u001b[0m\u001b[0md\u001b[0m\u001b[0;34m.\u001b[0m\u001b[0mreset_index\u001b[0m\u001b[0;34m(\u001b[0m\u001b[0mdrop\u001b[0m\u001b[0;34m=\u001b[0m\u001b[0;32mTrue\u001b[0m\u001b[0;34m)\u001b[0m \u001b[0;32mfor\u001b[0m \u001b[0md\u001b[0m \u001b[0;32min\u001b[0m \u001b[0;34m[\u001b[0m\u001b[0mcc_top50\u001b[0m\u001b[0;34m,\u001b[0m \u001b[0mmmr_top50\u001b[0m\u001b[0;34m]\u001b[0m\u001b[0;34m]\u001b[0m\u001b[0;34m,\u001b[0m \u001b[0maxis\u001b[0m\u001b[0;34m=\u001b[0m\u001b[0;36m1\u001b[0m\u001b[0;34m)\u001b[0m\u001b[0;34m\u001b[0m\u001b[0;34m\u001b[0m\u001b[0m\n\u001b[0;32m----> 5\u001b[0;31m \u001b[0mcolor\u001b[0m \u001b[0;34m=\u001b[0m \u001b[0;34m(\u001b[0m\u001b[0mcombined\u001b[0m\u001b[0;34m.\u001b[0m\u001b[0musername\u001b[0m \u001b[0;34m==\u001b[0m \u001b[0;34m'maroonrk'\u001b[0m\u001b[0;34m)\u001b[0m\u001b[0;34m.\u001b[0m\u001b[0mmap\u001b[0m\u001b[0;34m(\u001b[0m\u001b[0;34m{\u001b[0m\u001b[0;32mTrue\u001b[0m\u001b[0;34m:\u001b[0m \u001b[0;34m'background-color: green'\u001b[0m\u001b[0;34m,\u001b[0m \u001b[0;32mFalse\u001b[0m\u001b[0;34m:\u001b[0m \u001b[0;34m''\u001b[0m\u001b[0;34m}\u001b[0m\u001b[0;34m)\u001b[0m\u001b[0;34m\u001b[0m\u001b[0;34m\u001b[0m\u001b[0m\n\u001b[0m\u001b[1;32m      6\u001b[0m \u001b[0mcombined\u001b[0m\u001b[0;34m.\u001b[0m\u001b[0mstyle\u001b[0m\u001b[0;34m.\u001b[0m\u001b[0mapply\u001b[0m\u001b[0;34m(\u001b[0m\u001b[0;32mlambda\u001b[0m \u001b[0ms\u001b[0m\u001b[0;34m:\u001b[0m \u001b[0mcolor\u001b[0m\u001b[0;34m)\u001b[0m\u001b[0;34m\u001b[0m\u001b[0;34m\u001b[0m\u001b[0m\n\u001b[1;32m      7\u001b[0m \u001b[0mdisplay\u001b[0m\u001b[0;34m(\u001b[0m\u001b[0mcombined\u001b[0m\u001b[0;34m)\u001b[0m\u001b[0;34m\u001b[0m\u001b[0;34m\u001b[0m\u001b[0m\n",
      "\u001b[0;32m/opt/conda/lib/python3.7/site-packages/pandas/core/generic.py\u001b[0m in \u001b[0;36m__getattr__\u001b[0;34m(self, name)\u001b[0m\n\u001b[1;32m   5485\u001b[0m         ):\n\u001b[1;32m   5486\u001b[0m             \u001b[0;32mreturn\u001b[0m \u001b[0mself\u001b[0m\u001b[0;34m[\u001b[0m\u001b[0mname\u001b[0m\u001b[0;34m]\u001b[0m\u001b[0;34m\u001b[0m\u001b[0;34m\u001b[0m\u001b[0m\n\u001b[0;32m-> 5487\u001b[0;31m         \u001b[0;32mreturn\u001b[0m \u001b[0mobject\u001b[0m\u001b[0;34m.\u001b[0m\u001b[0m__getattribute__\u001b[0m\u001b[0;34m(\u001b[0m\u001b[0mself\u001b[0m\u001b[0;34m,\u001b[0m \u001b[0mname\u001b[0m\u001b[0;34m)\u001b[0m\u001b[0;34m\u001b[0m\u001b[0;34m\u001b[0m\u001b[0m\n\u001b[0m\u001b[1;32m   5488\u001b[0m \u001b[0;34m\u001b[0m\u001b[0m\n\u001b[1;32m   5489\u001b[0m     \u001b[0;32mdef\u001b[0m \u001b[0m__setattr__\u001b[0m\u001b[0;34m(\u001b[0m\u001b[0mself\u001b[0m\u001b[0;34m,\u001b[0m \u001b[0mname\u001b[0m\u001b[0;34m:\u001b[0m \u001b[0mstr\u001b[0m\u001b[0;34m,\u001b[0m \u001b[0mvalue\u001b[0m\u001b[0;34m)\u001b[0m \u001b[0;34m->\u001b[0m \u001b[0;32mNone\u001b[0m\u001b[0;34m:\u001b[0m\u001b[0;34m\u001b[0m\u001b[0;34m\u001b[0m\u001b[0m\n",
      "\u001b[0;31mAttributeError\u001b[0m: 'DataFrame' object has no attribute 'map'"
     ]
    }
   ],
   "source": [
    "cc_top50 = codechef_rank.iloc[:50]\n",
    "mmr_top50 = mmr_rank[['username', 'ratings']].iloc[:50]\n",
    "\n",
    "combined = pd.concat([d.reset_index(drop=True) for d in [cc_top50, mmr_top50]], axis=1)\n",
    "color = (combined.username == 'maroonrk').map({True: 'background-color: green', False: ''})\n",
    "combined.style.apply(lambda s: color)\n",
    "display(combined)"
   ]
  },
  {
   "cell_type": "markdown",
   "id": "61201e21-7383-4aa6-8349-c26d756e7034",
   "metadata": {},
   "source": [
    "We see many common names in the top-10. Let's quantify exactly what the overlap is."
   ]
  },
  {
   "cell_type": "code",
   "execution_count": 281,
   "id": "2a0fee08-aa7d-4d60-b55b-a64a26b886ed",
   "metadata": {},
   "outputs": [
    {
     "name": "stdout",
     "output_type": "stream",
     "text": [
      "Overlapping top-50 players:\n",
      "{'lhic', 'peehs_moorhsum', 'progmatic', 'ACRush', 'msm1993', 'kutengine', 'lyrically', 'spycheese', 'rns5', 'alex_2oo8', 'he_____he', 'heno239', 'mugurelionut', 'oilhun', 'ccz181078', 'ceilks', 'kut_hbi1998', 'ksun48', 'rns4', 'neal', 'maksim1744', 'kal013', 'petr', 'endagorion', 'maroonrk', 'tmwilliamlin', 'white2302', 'sansen', 'tmyklebu', 'bigbag', 'geothermal', 'gennady.korotkevich', 'um_nik', 'noimi'}\n",
      "Size of overlap: 34 \n",
      "\n",
      "Unique EloMMR players: {'skyfire', 'tute7627', 'wrong_answer_1', 'scheffeli', 'wasa855', 'ssrs', 'kotatsugame', 'grumpy_gordon', 'hitonanode', 'rns_cus', 'vercingetorix', 'potato167', 'xaphoenix', 'uwi', 'jeroenodb', 'natsugiri'}\n",
      "Unique CodeChef players: {'waterfalls', 'hh_algos', 'stonefeang', 'kut_hgs1997', 'fjzzq2002', 'ecnerwala', 'ryodan', 'algmyr', 'Fdg', 'iafir', 'dj3500', 'gainullinildar', 'isaf27', 'gorre_morre', 'aawisong', 'b524'}\n"
     ]
    }
   ],
   "source": [
    "overlap = set(cc_top50.username) & set(mmr_top50.username)\n",
    "\n",
    "print('Overlapping top-50 players:')\n",
    "print(overlap)\n",
    "print('Size of overlap:', len(overlap), '\\n')\n",
    "\n",
    "print('Unique EloMMR players:', set(mmr_top50.username) - overlap)\n",
    "print('Unique CodeChef players:', set(cc_top50.username) - overlap)"
   ]
  },
  {
   "cell_type": "markdown",
   "id": "ce44ecc9-7c3c-478d-93e0-483ce2431d0b",
   "metadata": {},
   "source": [
    "Almost 70% of the top-50 list overlaps. Next, let's look at the relationship between CodeChef and EloMMR ratings."
   ]
  },
  {
   "cell_type": "code",
   "execution_count": null,
   "id": "757a63b3-1dc0-4970-aaa1-c8999c0fa649",
   "metadata": {},
   "outputs": [],
   "source": []
  }
 ],
 "metadata": {
  "kernelspec": {
   "display_name": "Python 3",
   "language": "python",
   "name": "python3"
  },
  "language_info": {
   "codemirror_mode": {
    "name": "ipython",
    "version": 3
   },
   "file_extension": ".py",
   "mimetype": "text/x-python",
   "name": "python",
   "nbconvert_exporter": "python",
   "pygments_lexer": "ipython3",
   "version": "3.7.12"
  }
 },
 "nbformat": 4,
 "nbformat_minor": 5
}
