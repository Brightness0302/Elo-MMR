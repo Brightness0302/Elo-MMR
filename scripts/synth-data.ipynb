{
 "cells": [
  {
   "cell_type": "code",
   "execution_count": null,
   "metadata": {},
   "outputs": [],
   "source": [
    "import numpy as np\n",
    "import math\n",
    "import json\n",
    "\n",
    "num_players = 2500\n",
    "num_rounds = 50\n",
    "mu_noob = 1500\n",
    "sig_noob = 300\n",
    "sig_perf = 200\n",
    "sig_noise = 35\n",
    "logistic = False\n",
    "\n",
    "def np_random_custom(mu, sig, size=None):\n",
    "    if logistic:\n",
    "        return np.random.logistic(mu, sig * sqrt(3) / math.pi, num_players)\n",
    "    else:\n",
    "        return np.random.normal(mu, sig, num_players)\n",
    "\n",
    "skills = np.random.normal(mu_noob, sig_noob, num_players)\n",
    "for r in range(num_rounds):\n",
    "    skills += np.random.normal(0, sig_noise, num_players)\n",
    "    perfs = skills + np_random_custom(0, sig_perf, num_players)\n",
    "    \n",
    "    rankings = [(perf, i) for i, perf in enumerate(perfs)]\n",
    "    rankings = reversed(sorted(rankings))\n",
    "    \n",
    "    data = {}\n",
    "    data['id'] = r\n",
    "    data['name'] = \"To be filled.\"\n",
    "    data['time_seconds'] = 366 * 86400\n",
    "    \n",
    "    standings = []\n",
    "    data['standings'] = standings\n",
    "    for i, rank in enumerate(rankings):\n",
    "        standings.append([str(rank[1]), i, i])\n",
    "        \n",
    "    with open('../cache/synthetic/{}.json'.format(r), 'w') as out:\n",
    "        json.dump(data, out)"
   ]
  },
  {
   "cell_type": "code",
   "execution_count": null,
   "metadata": {},
   "outputs": [],
   "source": [
    "contest_ids = list(range(num_rounds))\n",
    "with open('../data/synthetic/contest_ids.json', 'w') as out:\n",
    "    out.write(str(contest_ids))"
   ]
  },
  {
   "cell_type": "code",
   "execution_count": null,
   "metadata": {},
   "outputs": [],
   "source": []
  }
 ],
 "metadata": {
  "kernelspec": {
   "display_name": "Python 3",
   "language": "python",
   "name": "python3"
  },
  "language_info": {
   "codemirror_mode": {
    "name": "ipython",
    "version": 3
   },
   "file_extension": ".py",
   "mimetype": "text/x-python",
   "name": "python",
   "nbconvert_exporter": "python",
   "pygments_lexer": "ipython3",
   "version": "3.8.5"
  }
 },
 "nbformat": 4,
 "nbformat_minor": 4
}
