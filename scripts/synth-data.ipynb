{
 "cells": [
  {
   "cell_type": "code",
   "execution_count": null,
   "metadata": {},
   "outputs": [],
   "source": [
    "import os\n",
    "import numpy as np\n",
    "import math\n",
    "import json\n",
    "\n",
    "mu_noob = 1500\n",
    "sig_noob = 350\n",
    "sig_perf = 200\n",
    "sig_noise = 35\n",
    "logistic = False\n",
    "\n",
    "def np_random_custom(mu, sig, size=None):\n",
    "    if logistic:\n",
    "        return np.random.logistic(mu, sig * sqrt(3) / math.pi, num_players)\n",
    "    else:\n",
    "        return np.random.normal(mu, sig, size)\n",
    "\n",
    "def make_dataset(dataset_name, num_players, num_rounds, refresh_every=60):\n",
    "    os.makedirs('../cache/{}'.format(dataset_name), exist_ok=True)\n",
    "    batch_idx = 0\n",
    "    \n",
    "    for idx in range(num_rounds):\n",
    "        if idx % refresh_every == 0:\n",
    "            batch_idx += 1\n",
    "            skills = np.random.normal(mu_noob, sig_noob, num_players)\n",
    "        \n",
    "        skills += np.random.normal(0, sig_noise, num_players)\n",
    "        perfs = skills + np_random_custom(0, sig_perf, num_players)\n",
    "\n",
    "        rankings = [(perf, i) for i, perf in enumerate(perfs)]\n",
    "        rankings = reversed(sorted(rankings))\n",
    "\n",
    "        data = {}\n",
    "        data['id'] = idx\n",
    "        data['name'] = \"Round #{}\".format(idx)\n",
    "        data['time_seconds'] = idx * 86400\n",
    "\n",
    "        standings = []\n",
    "        data['standings'] = standings\n",
    "        for i, rank in enumerate(rankings):\n",
    "            standings.append([\"P{}_{}\".format(batch_idx, rank[1]), i, i])\n",
    "        with open('../cache/{}/{}.json'.format(dataset_name, idx), 'w') as out:\n",
    "            json.dump(data, out)"
   ]
  },
  {
   "cell_type": "code",
   "execution_count": null,
   "metadata": {},
   "outputs": [],
   "source": [
    "for i in range(10):\n",
    "    make_dataset(\"synth-sm\", 5, 6000)\n",
    "make_dataset(\"synth-la\", 100000, 60)"
   ]
  }
 ],
 "metadata": {
  "kernelspec": {
   "display_name": "Python 3",
   "language": "python",
   "name": "python3"
  },
  "language_info": {
   "codemirror_mode": {
    "name": "ipython",
    "version": 3
   },
   "file_extension": ".py",
   "mimetype": "text/x-python",
   "name": "python",
   "nbconvert_exporter": "python",
   "pygments_lexer": "ipython3",
   "version": "3.8.5"
  }
 },
 "nbformat": 4,
 "nbformat_minor": 4
}
