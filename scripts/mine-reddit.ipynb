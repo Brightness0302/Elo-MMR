{
 "cells": [
  {
   "cell_type": "code",
   "execution_count": 1,
   "metadata": {},
   "outputs": [
    {
     "name": "stdout",
     "output_type": "stream",
     "text": [
      "Collecting praw\n",
      "  Downloading praw-7.1.0-py3-none-any.whl (152 kB)\n",
      "Collecting websocket-client>=0.54.0\n",
      "  Downloading websocket_client-0.57.0-py2.py3-none-any.whl (200 kB)\n",
      "Collecting prawcore<2.0,>=1.3.0\n",
      "  Downloading prawcore-1.5.0-py3-none-any.whl (15 kB)\n",
      "Collecting update-checker>=0.17\n",
      "  Downloading update_checker-0.18.0-py3-none-any.whl (7.0 kB)\n",
      "Requirement already satisfied: six in c:\\users\\bb8\\anaconda3\\lib\\site-packages (from websocket-client>=0.54.0->praw) (1.14.0)\n",
      "Requirement already satisfied: requests<3.0,>=2.6.0 in c:\\users\\bb8\\anaconda3\\lib\\site-packages (from prawcore<2.0,>=1.3.0->praw) (2.18.4)\n",
      "Requirement already satisfied: idna<2.7,>=2.5 in c:\\users\\bb8\\anaconda3\\lib\\site-packages (from requests<3.0,>=2.6.0->prawcore<2.0,>=1.3.0->praw) (2.6)\n",
      "Requirement already satisfied: chardet<3.1.0,>=3.0.2 in c:\\users\\bb8\\anaconda3\\lib\\site-packages (from requests<3.0,>=2.6.0->prawcore<2.0,>=1.3.0->praw) (3.0.4)\n",
      "Requirement already satisfied: certifi>=2017.4.17 in c:\\users\\bb8\\anaconda3\\lib\\site-packages (from requests<3.0,>=2.6.0->prawcore<2.0,>=1.3.0->praw) (2019.11.28)\n",
      "Requirement already satisfied: urllib3<1.23,>=1.21.1 in c:\\users\\bb8\\anaconda3\\lib\\site-packages (from requests<3.0,>=2.6.0->prawcore<2.0,>=1.3.0->praw) (1.22)\n",
      "Installing collected packages: websocket-client, prawcore, update-checker, praw\n",
      "Successfully installed praw-7.1.0 prawcore-1.5.0 update-checker-0.18.0 websocket-client-0.57.0\n"
     ]
    }
   ],
   "source": [
    "!pip install praw"
   ]
  },
  {
   "cell_type": "code",
   "execution_count": 46,
   "metadata": {},
   "outputs": [
    {
     "name": "stdout",
     "output_type": "stream",
     "text": [
      "Take your time, you got this 3614 268685\n",
      "I got off the horse by accident right before a cutscene in red dead 2220 226506\n",
      "'Play until we lose' 1464 193115\n",
      "The perfect cosplay doesn’t ex... 1818 190764\n",
      "Can we please boycott Star Wars battlefront 2 12204 182060\n",
      "As a teen in the 80s, my conservative God-fearing family wouldn't let me own Dungeons & Dragons. Thirty years later, my son and I are starting our D & D journey. 4967 175213\n",
      "EA removed the refund button on their webpage, and now you have to call them and wait to get a refund. 9587 175189\n",
      "Train Simulator is so immersive! 2256 173954\n",
      "Actual math teacher recording and teaching actual math in Half-Life: Alyx 1870 167975\n",
      "They asked him what gaming chair he was using. 2595 163662\n",
      "Join the Battle for Net Neutrality! Net Neutrality will die in a month and will affect online gamers, streamers, and many other websites and services, unless YOU fight for it! 4630 163368\n",
      "Video games are great, but sometimes it's nice to unplug and play a game of Jenga with your cat 1119 163091\n",
      "Intimidation at its finest. 2160 162472\n",
      "I am that guy that makes sculptures in Minecraft. Here is my latest, and only sculpture for 2018. I call it \"Aquasomnia\" 1508 162417\n",
      "I found out today that my grandpa ordered a better gaming rig than myself and any of my friends 2637 162056\n",
      "Red vs Blue was ahead of it's time 1707 158085\n",
      "In South Park: The Fractured but Whole, the difficulty setting changes the colour of your skin. 6300 155070\n",
      "Little bro had been saving up for a PS4, so big bro surprises him with one on his birthday. 4493 153893\n",
      "Playing Spiderman when I found a building that looked familiar... 3521 153389\n",
      "It's VR Jenga but your fingers get longer after every move. You in? 2026 153092\n",
      "It's a shame... 3757 151841\n",
      "It’s still a work in progress but this is our his and hers set up so far! 5603 151789\n",
      "Story Driven Rpgs... 3946 150000\n",
      "I'm developing a multiplayer game where you hunt Ghosts! 👻 5122 149527\n",
      "EA deleted my Origin account and EA help is totally ignoring me. 7999 147920\n",
      "The Silver Snipers are a CS:GO team in Sweden where the youngest member is 62 and the oldest 81. They say playing CS has helped to give them a confidence boost and serve as a sort of mental gymnastics 2721 147818\n",
      "Anyone else guilty? 1912 147565\n",
      "Bill Gates selling the first copy of Halo 3 at a Best Buy (2007) 2622 146987\n",
      "I make voxel art in Minecraft, this is my latest piece! I call it the 'Perfect Marionette' 2003 146114\n",
      "The best thing of Gaming 3953 145970\n",
      "So Ubisoft has a new logo 2154 145459\n",
      "R.I.P TotalBiscuit 5513 145143\n",
      "Why Jedis should never come to the dark side of the map 2402 144958\n",
      "My Grandma has played Wii Fit everyday for over 10 years! 1865 143679\n",
      "\"Valve announces Half-Life: Alyx, its first flagship VR game\" 15483 142514\n",
      "I love money 3725 142457\n",
      "Seems fair... 1577 142184\n",
      "Cool new card from Activision Blizzard's Hearthstone! 5185 140876\n",
      "Escort Missions 2679 140482\n",
      "It’s time 2388 139559\n",
      "Found this accidently in World War Z. Thought that might be funny ^^ 1354 139487\n",
      "Last Fallout 76 player officially deemed the loneliest person on earth 2896 139307\n",
      "My 79yo father exercises with Wii fit almost every morning 1624 139028\n",
      "The classic trio 1198 138546\n",
      "Unlocking Everything in Battlefront II Requires 4528 hours or $2100 9324 138517\n",
      "Why did the chicken cross the road? Because you didn't freaking COOK IT! 1183 137801\n",
      "Why games should be played in VR 1654 137701\n",
      "How to avoid headcrabs in VR 2838 137703\n",
      "EA’s stock is falling, and it’s because of us. They are flipping out, so keep it up! 6579 137651\n",
      "Cannonball! ... erm... 2413 136987\n"
     ]
    }
   ],
   "source": [
    "import praw\n",
    "\n",
    "reddit = praw.Reddit(\n",
    "    client_id=\"8MguWY6Vv2iwDw\",  \n",
    "    client_secret=\"GyXPBkZaNZn1GT8o_K3lNXqx8mU\",\n",
    "    user_agent=\"Chrome:EloR Miner:v0.1 (by u/inutard)\")\n",
    "\n",
    "# From a glance at the daily top threads, gaming seems to be most popular\n",
    "# We'll mine from a specific subreddit to make sure theres some overlap in the user base\n",
    "thread_scores = []\n",
    "# Each thread of O(1000) comments takes about 3min to process\n",
    "for submission in reddit.subreddit(\"gaming\").top(limit=50):\n",
    "    print(submission.title, submission.num_comments, submission.score)\n",
    "    submission.comments.replace_more(limit=None)\n",
    "    scores = []\n",
    "    for comment in submission.comments:\n",
    "        try:\n",
    "            scores.append((comment.score, comment.author.name))\n",
    "        except:\n",
    "            # Likely deleted comments\n",
    "            pass\n",
    "    thread_scores.append(scores)"
   ]
  },
  {
   "cell_type": "code",
   "execution_count": 47,
   "metadata": {},
   "outputs": [
    {
     "data": {
      "text/plain": [
       "61676"
      ]
     },
     "execution_count": 47,
     "metadata": {},
     "output_type": "execute_result"
    }
   ],
   "source": [
    "# Total number of unique comments\n",
    "len(set(s[1] for score in thread_scores for s in score))"
   ]
  },
  {
   "cell_type": "code",
   "execution_count": 48,
   "metadata": {},
   "outputs": [
    {
     "data": {
      "text/plain": [
       "[('TooShiftyForYou', 28),\n",
       " ('LazyKidd420', 11),\n",
       " ('buyingaspaceship', 11),\n",
       " ('Pakmanjosh', 10),\n",
       " ('Spawnacus', 10),\n",
       " ('ilivedownyourroad', 10),\n",
       " ('Drumboy168', 10),\n",
       " ('Groenboys', 8),\n",
       " ('The_UnApologist', 8),\n",
       " ('Ssme812', 8),\n",
       " ('Unreal_Banana', 8),\n",
       " ('6-dig-dick', 7),\n",
       " ('Jrodvon', 7),\n",
       " ('watch_over_me', 7),\n",
       " ('TONKAHANAH', 7),\n",
       " ('DanKziyaa', 7),\n",
       " ('evenios', 7),\n",
       " ('SeleniumF0rest', 7),\n",
       " ('tanafras', 7),\n",
       " ('PrasunJW', 7),\n",
       " ('Arithik', 6),\n",
       " ('CryingWithRage0', 6),\n",
       " ('buckygrad', 6),\n",
       " ('Grusselgrosser', 6),\n",
       " ('Lovat69', 6),\n",
       " ('TheMadPuma', 6),\n",
       " ('aerovado', 6),\n",
       " ('rockkth', 6),\n",
       " ('idma', 6),\n",
       " ('DrNO811', 6),\n",
       " ('flatline____________', 6),\n",
       " ('scandalousmambo', 6),\n",
       " ('Beercorn1', 6),\n",
       " ('solidshakego', 6),\n",
       " ('hoogafanter', 6),\n",
       " ('nexistcsgo', 6),\n",
       " ('lod254', 6),\n",
       " ('Even-Understanding', 6),\n",
       " ('pollutionmixes', 6),\n",
       " ('LukeTheGeek', 6),\n",
       " ('Speedster4206', 6),\n",
       " ('benx101', 5),\n",
       " ('Gcons24', 5),\n",
       " ('AgentSkidMarks', 5),\n",
       " ('lloydsmith28', 5),\n",
       " ('AlvinGT3RS', 5),\n",
       " ('Typhoon365', 5),\n",
       " ('wmurray003', 5),\n",
       " ('Noob3rt', 5),\n",
       " ('HarbingerOfChampions', 5)]"
      ]
     },
     "execution_count": 48,
     "metadata": {},
     "output_type": "execute_result"
    }
   ],
   "source": [
    "# Frequencies of top posters\n",
    "from collections import Counter\n",
    "C = Counter(list(s[1] for score in thread_scores for s in score))\n",
    "C.most_common(50)"
   ]
  },
  {
   "cell_type": "code",
   "execution_count": 49,
   "metadata": {},
   "outputs": [
    {
     "data": {
      "text/plain": [
       "68237"
      ]
     },
     "execution_count": 49,
     "metadata": {},
     "output_type": "execute_result"
    }
   ],
   "source": [
    "# Total number of comments\n",
    "sum(len(s) for s in thread_scores)"
   ]
  },
  {
   "cell_type": "code",
   "execution_count": null,
   "metadata": {},
   "outputs": [],
   "source": []
  }
 ],
 "metadata": {
  "kernelspec": {
   "display_name": "Python 3",
   "language": "python",
   "name": "python3"
  },
  "language_info": {
   "codemirror_mode": {
    "name": "ipython",
    "version": 3
   },
   "file_extension": ".py",
   "mimetype": "text/x-python",
   "name": "python",
   "nbconvert_exporter": "python",
   "pygments_lexer": "ipython3",
   "version": "3.7.6"
  }
 },
 "nbformat": 4,
 "nbformat_minor": 4
}
